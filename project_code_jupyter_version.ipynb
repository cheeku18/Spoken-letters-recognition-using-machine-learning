{
 "cells": [
  {
   "cell_type": "markdown",
   "metadata": {},
   "source": [
    "### DSC 478 - Final Project\n",
    "### Arun Gopal Govindaswamy\n"
   ]
  },
  {
   "cell_type": "code",
   "execution_count": 35,
   "metadata": {
    "id": "uVN0Fm10O90g"
   },
   "outputs": [],
   "source": [
    "import pandas as pd\n",
    "import numpy as np\n",
    "import time\n",
    "\n",
    "from sklearn.ensemble import RandomForestClassifier\n",
    "from sklearn.neighbors import KNeighborsClassifier\n",
    "from sklearn.model_selection import GridSearchCV\n",
    "from sklearn.tree import DecisionTreeClassifier\n",
    "from sklearn.cluster import KMeans\n",
    "from sklearn.metrics import accuracy_score\n",
    "from sklearn.metrics.cluster import homogeneity_score\n",
    "from sklearn.metrics.cluster import completeness_score\n",
    "from sklearn.decomposition import PCA\n",
    "\n",
    "import matplotlib.pyplot as plt\n",
    "\n",
    "import graphviz\n",
    "from sklearn.tree import export_graphviz"
   ]
  },
  {
   "cell_type": "code",
   "execution_count": 2,
   "metadata": {
    "colab": {
     "base_uri": "https://localhost:8080/"
    },
    "id": "AyG2YNBFO90h",
    "outputId": "7dec4928-2a21-4af1-e3c0-866b818ab465"
   },
   "outputs": [
    {
     "name": "stdout",
     "output_type": "stream",
     "text": [
      "Train data shape: (6238, 617)\n",
      "Train labels shape: (6238,)\n",
      "Test data shape: (1559, 617)\n",
      "Test labels shape: (1559,)\n"
     ]
    }
   ],
   "source": [
    "x_train = pd.read_csv(\"isolet1+2+3+4.data\", header = None)\n",
    "y_train = x_train.pop(617)\n",
    "x_test = pd.read_csv(\"isolet5.data\", header = None)\n",
    "y_test = x_test.pop(617)\n",
    "print(\"Train data shape: {}\\nTrain labels shape: {}\\nTest data shape: {}\\nTest labels shape: {}\".format(x_train.shape,y_train.shape,x_test.shape,y_test.shape))"
   ]
  },
  {
   "cell_type": "markdown",
   "metadata": {
    "id": "zdr5iGezO90i"
   },
   "source": [
    "### KDD - Data Cleaning Step"
   ]
  },
  {
   "cell_type": "markdown",
   "metadata": {
    "id": "x8XxEv-hO90i"
   },
   "source": [
    "**Checking for null values**"
   ]
  },
  {
   "cell_type": "code",
   "execution_count": 4,
   "metadata": {
    "colab": {
     "base_uri": "https://localhost:8080/"
    },
    "id": "Prf2lZYdO90i",
    "outputId": "80a205f7-c313-4621-9a86-d58ba180b753"
   },
   "outputs": [
    {
     "name": "stdout",
     "output_type": "stream",
     "text": [
      "Number of null entries in the training data set: 0\n",
      "Number of null entries in the test data set: 0\n"
     ]
    }
   ],
   "source": [
    "print(\"Number of null entries in the training data set:\",x_train.isnull().sum().sum())\n",
    "print(\"Number of null entries in the test data set:\",x_test.isnull().sum().sum())"
   ]
  },
  {
   "cell_type": "markdown",
   "metadata": {
    "id": "szKGNFr8O90j"
   },
   "source": [
    "There are no null values in both train and test data."
   ]
  },
  {
   "cell_type": "markdown",
   "metadata": {},
   "source": [
    "### KDD - Data Selection and Transformation Step"
   ]
  },
  {
   "cell_type": "markdown",
   "metadata": {
    "id": "7EVvk9SwO90j"
   },
   "source": [
    "**Data Description**"
   ]
  },
  {
   "cell_type": "code",
   "execution_count": 5,
   "metadata": {
    "colab": {
     "base_uri": "https://localhost:8080/"
    },
    "id": "L1M7bWlGO90j",
    "outputId": "7431ec1b-40e3-481f-efb7-007675ff63a2"
   },
   "outputs": [
    {
     "name": "stdout",
     "output_type": "stream",
     "text": [
      "               0            1    ...          615          616\n",
      "count  6238.000000  6238.000000  ...  6238.000000  6238.000000\n",
      "mean     -0.394077     0.141918  ...     0.082916    -0.272561\n",
      "std       0.240579     0.322356  ...     0.336243     0.357741\n",
      "min      -1.000000    -0.892600  ...    -0.802800    -0.962600\n",
      "25%      -0.555200    -0.100800  ...    -0.156700    -0.541350\n",
      "50%      -0.423000     0.106600  ...     0.046800    -0.318200\n",
      "75%      -0.248450     0.355550  ...     0.296100    -0.054000\n",
      "max       1.000000     1.000000  ...     1.000000     0.889800\n",
      "\n",
      "[8 rows x 617 columns]\n"
     ]
    }
   ],
   "source": [
    "print(x_train.describe())"
   ]
  },
  {
   "cell_type": "markdown",
   "metadata": {
    "id": "ncR8EQSzO90k"
   },
   "source": [
    "It is seen from the top and bottom 10 columns that the data is already normalized and the values lie between -1 and 1. Let us confirm this by printing minimum and maximum of each column in the data set."
   ]
  },
  {
   "cell_type": "code",
   "execution_count": 6,
   "metadata": {
    "colab": {
     "base_uri": "https://localhost:8080/"
    },
    "id": "3bFYJSEMO90k",
    "outputId": "0f0eb2f2-780f-42f6-8550-6d11773356aa"
   },
   "outputs": [
    {
     "name": "stdout",
     "output_type": "stream",
     "text": [
      "Column Index: 0 \t Minimum: -1.00 \t Maximum: 1.0\n",
      "Column Index: 1 \t Minimum: -0.89 \t Maximum: 1.0\n",
      "Column Index: 2 \t Minimum: -0.98 \t Maximum: 1.0\n",
      "Column Index: 3 \t Minimum: -0.97 \t Maximum: 1.0\n",
      "Column Index: 4 \t Minimum: -1.00 \t Maximum: 1.0\n",
      "Column Index: 5 \t Minimum: -0.98 \t Maximum: 1.0\n",
      "Column Index: 6 \t Minimum: -1.00 \t Maximum: 1.0\n",
      "Column Index: 7 \t Minimum: -1.00 \t Maximum: 1.0\n",
      "Column Index: 8 \t Minimum: -1.00 \t Maximum: 1.0\n",
      "Column Index: 9 \t Minimum: -1.00 \t Maximum: 1.0\n",
      "Column Index: 10 \t Minimum: -1.00 \t Maximum: 1.0\n",
      "Column Index: 11 \t Minimum: -0.99 \t Maximum: 1.0\n",
      "Column Index: 12 \t Minimum: -0.97 \t Maximum: 1.0\n",
      "Column Index: 13 \t Minimum: -0.98 \t Maximum: 1.0\n",
      "Column Index: 14 \t Minimum: -0.99 \t Maximum: 1.0\n",
      "Column Index: 15 \t Minimum: -0.97 \t Maximum: 1.0\n",
      "Column Index: 16 \t Minimum: -0.98 \t Maximum: 1.0\n",
      "Column Index: 17 \t Minimum: -0.92 \t Maximum: 1.0\n",
      "Column Index: 18 \t Minimum: -0.96 \t Maximum: 1.0\n",
      "Column Index: 19 \t Minimum: -1.00 \t Maximum: 1.0\n",
      "Column Index: 20 \t Minimum: -0.90 \t Maximum: 1.0\n",
      "Column Index: 21 \t Minimum: -0.90 \t Maximum: 1.0\n",
      "Column Index: 22 \t Minimum: -0.99 \t Maximum: 1.0\n",
      "Column Index: 23 \t Minimum: -0.98 \t Maximum: 1.0\n",
      "Column Index: 24 \t Minimum: -0.91 \t Maximum: 1.0\n",
      "Column Index: 25 \t Minimum: -0.97 \t Maximum: 1.0\n",
      "Column Index: 26 \t Minimum: -0.96 \t Maximum: 1.0\n",
      "Column Index: 27 \t Minimum: -1.00 \t Maximum: 1.0\n",
      "Column Index: 28 \t Minimum: -0.97 \t Maximum: 1.0\n",
      "Column Index: 29 \t Minimum: -0.98 \t Maximum: 1.0\n",
      "Column Index: 30 \t Minimum: -1.00 \t Maximum: 1.0\n",
      "Column Index: 31 \t Minimum: -1.00 \t Maximum: 1.0\n",
      "Column Index: 32 \t Minimum: -1.00 \t Maximum: 1.0\n",
      "Column Index: 33 \t Minimum: -0.98 \t Maximum: 1.0\n",
      "Column Index: 34 \t Minimum: -0.83 \t Maximum: 1.0\n",
      "Column Index: 35 \t Minimum: -0.91 \t Maximum: 1.0\n",
      "Column Index: 36 \t Minimum: -1.00 \t Maximum: 1.0\n",
      "Column Index: 37 \t Minimum: -1.00 \t Maximum: 1.0\n",
      "Column Index: 38 \t Minimum: -1.00 \t Maximum: 1.0\n",
      "Column Index: 39 \t Minimum: -0.99 \t Maximum: 1.0\n",
      "Column Index: 40 \t Minimum: -1.00 \t Maximum: 1.0\n",
      "Column Index: 41 \t Minimum: -1.00 \t Maximum: 1.0\n",
      "Column Index: 42 \t Minimum: -1.00 \t Maximum: 1.0\n",
      "Column Index: 43 \t Minimum: -1.00 \t Maximum: 1.0\n",
      "Column Index: 44 \t Minimum: -0.99 \t Maximum: 1.0\n",
      "Column Index: 45 \t Minimum: -0.98 \t Maximum: 1.0\n",
      "Column Index: 46 \t Minimum: -0.97 \t Maximum: 1.0\n",
      "Column Index: 47 \t Minimum: -0.99 \t Maximum: 1.0\n",
      "Column Index: 48 \t Minimum: -0.98 \t Maximum: 1.0\n",
      "Column Index: 49 \t Minimum: -0.97 \t Maximum: 1.0\n",
      "Column Index: 50 \t Minimum: -0.94 \t Maximum: 1.0\n",
      "Column Index: 51 \t Minimum: -0.96 \t Maximum: 1.0\n",
      "Column Index: 52 \t Minimum: -0.88 \t Maximum: 1.0\n",
      "Column Index: 53 \t Minimum: -0.96 \t Maximum: 1.0\n",
      "Column Index: 54 \t Minimum: -0.96 \t Maximum: 1.0\n",
      "Column Index: 55 \t Minimum: -0.92 \t Maximum: 1.0\n",
      "Column Index: 56 \t Minimum: -0.96 \t Maximum: 1.0\n",
      "Column Index: 57 \t Minimum: -0.97 \t Maximum: 1.0\n",
      "Column Index: 58 \t Minimum: -0.99 \t Maximum: 1.0\n",
      "Column Index: 59 \t Minimum: -0.99 \t Maximum: 1.0\n",
      "Column Index: 60 \t Minimum: -0.96 \t Maximum: 1.0\n",
      "Column Index: 61 \t Minimum: -0.99 \t Maximum: 1.0\n",
      "Column Index: 62 \t Minimum: -1.00 \t Maximum: 1.0\n",
      "Column Index: 63 \t Minimum: -1.00 \t Maximum: 1.0\n",
      "Column Index: 64 \t Minimum: -1.00 \t Maximum: 0.946\n",
      "Column Index: 65 \t Minimum: -0.98 \t Maximum: 1.0\n",
      "Column Index: 66 \t Minimum: -0.90 \t Maximum: 1.0\n",
      "Column Index: 67 \t Minimum: -0.92 \t Maximum: 1.0\n",
      "Column Index: 68 \t Minimum: -0.99 \t Maximum: 1.0\n",
      "Column Index: 69 \t Minimum: -0.99 \t Maximum: 1.0\n",
      "Column Index: 70 \t Minimum: -0.99 \t Maximum: 1.0\n",
      "Column Index: 71 \t Minimum: -1.00 \t Maximum: 1.0\n",
      "Column Index: 72 \t Minimum: -1.00 \t Maximum: 1.0\n",
      "Column Index: 73 \t Minimum: -1.00 \t Maximum: 1.0\n",
      "Column Index: 74 \t Minimum: -1.00 \t Maximum: 1.0\n",
      "Column Index: 75 \t Minimum: -0.99 \t Maximum: 1.0\n",
      "Column Index: 76 \t Minimum: -0.97 \t Maximum: 1.0\n",
      "Column Index: 77 \t Minimum: -0.98 \t Maximum: 1.0\n",
      "Column Index: 78 \t Minimum: -0.97 \t Maximum: 1.0\n",
      "Column Index: 79 \t Minimum: -1.00 \t Maximum: 1.0\n",
      "Column Index: 80 \t Minimum: -0.98 \t Maximum: 1.0\n",
      "Column Index: 81 \t Minimum: -0.94 \t Maximum: 1.0\n",
      "Column Index: 82 \t Minimum: -0.94 \t Maximum: 1.0\n",
      "Column Index: 83 \t Minimum: -0.98 \t Maximum: 1.0\n",
      "Column Index: 84 \t Minimum: -0.97 \t Maximum: 1.0\n",
      "Column Index: 85 \t Minimum: -0.97 \t Maximum: 1.0\n",
      "Column Index: 86 \t Minimum: -0.92 \t Maximum: 1.0\n",
      "Column Index: 87 \t Minimum: -0.90 \t Maximum: 1.0\n",
      "Column Index: 88 \t Minimum: -0.94 \t Maximum: 1.0\n",
      "Column Index: 89 \t Minimum: -0.98 \t Maximum: 1.0\n",
      "Column Index: 90 \t Minimum: -0.94 \t Maximum: 1.0\n",
      "Column Index: 91 \t Minimum: -0.99 \t Maximum: 1.0\n",
      "Column Index: 92 \t Minimum: -1.00 \t Maximum: 1.0\n",
      "Column Index: 93 \t Minimum: -0.99 \t Maximum: 1.0\n",
      "Column Index: 94 \t Minimum: -0.99 \t Maximum: 1.0\n",
      "Column Index: 95 \t Minimum: -1.00 \t Maximum: 1.0\n",
      "Column Index: 96 \t Minimum: -1.00 \t Maximum: 1.0\n",
      "Column Index: 97 \t Minimum: -0.90 \t Maximum: 1.0\n",
      "Column Index: 98 \t Minimum: -0.84 \t Maximum: 1.0\n",
      "Column Index: 99 \t Minimum: -0.92 \t Maximum: 1.0\n",
      "Column Index: 100 \t Minimum: -0.99 \t Maximum: 1.0\n",
      "Column Index: 101 \t Minimum: -1.00 \t Maximum: 1.0\n",
      "Column Index: 102 \t Minimum: -1.00 \t Maximum: 1.0\n",
      "Column Index: 103 \t Minimum: -0.99 \t Maximum: 1.0\n",
      "Column Index: 104 \t Minimum: -1.00 \t Maximum: 1.0\n",
      "Column Index: 105 \t Minimum: -1.00 \t Maximum: 1.0\n",
      "Column Index: 106 \t Minimum: -1.00 \t Maximum: 1.0\n",
      "Column Index: 107 \t Minimum: -1.00 \t Maximum: 1.0\n",
      "Column Index: 108 \t Minimum: -0.99 \t Maximum: 1.0\n",
      "Column Index: 109 \t Minimum: -1.00 \t Maximum: 1.0\n",
      "Column Index: 110 \t Minimum: -0.97 \t Maximum: 1.0\n",
      "Column Index: 111 \t Minimum: -0.96 \t Maximum: 1.0\n",
      "Column Index: 112 \t Minimum: -0.95 \t Maximum: 1.0\n",
      "Column Index: 113 \t Minimum: -0.99 \t Maximum: 1.0\n",
      "Column Index: 114 \t Minimum: -0.92 \t Maximum: 1.0\n",
      "Column Index: 115 \t Minimum: -0.95 \t Maximum: 1.0\n",
      "Column Index: 116 \t Minimum: -0.98 \t Maximum: 1.0\n",
      "Column Index: 117 \t Minimum: -0.96 \t Maximum: 1.0\n",
      "Column Index: 118 \t Minimum: -0.97 \t Maximum: 1.0\n",
      "Column Index: 119 \t Minimum: -0.98 \t Maximum: 1.0\n",
      "Column Index: 120 \t Minimum: -0.99 \t Maximum: 1.0\n",
      "Column Index: 121 \t Minimum: -1.00 \t Maximum: 1.0\n",
      "Column Index: 122 \t Minimum: -0.99 \t Maximum: 1.0\n",
      "Column Index: 123 \t Minimum: -0.98 \t Maximum: 1.0\n",
      "Column Index: 124 \t Minimum: -1.00 \t Maximum: 1.0\n",
      "Column Index: 125 \t Minimum: -0.98 \t Maximum: 1.0\n",
      "Column Index: 126 \t Minimum: -1.00 \t Maximum: 1.0\n",
      "Column Index: 127 \t Minimum: -1.00 \t Maximum: 1.0\n",
      "Column Index: 128 \t Minimum: -0.99 \t Maximum: 1.0\n",
      "Column Index: 129 \t Minimum: -0.88 \t Maximum: 1.0\n",
      "Column Index: 130 \t Minimum: -0.69 \t Maximum: 1.0\n",
      "Column Index: 131 \t Minimum: -0.80 \t Maximum: 1.0\n",
      "Column Index: 132 \t Minimum: -1.00 \t Maximum: 1.0\n",
      "Column Index: 133 \t Minimum: -0.99 \t Maximum: 1.0\n",
      "Column Index: 134 \t Minimum: -0.99 \t Maximum: 1.0\n",
      "Column Index: 135 \t Minimum: -1.00 \t Maximum: 1.0\n",
      "Column Index: 136 \t Minimum: -1.00 \t Maximum: 1.0\n",
      "Column Index: 137 \t Minimum: -1.00 \t Maximum: 1.0\n",
      "Column Index: 138 \t Minimum: -1.00 \t Maximum: 1.0\n",
      "Column Index: 139 \t Minimum: -1.00 \t Maximum: 1.0\n",
      "Column Index: 140 \t Minimum: -0.98 \t Maximum: 1.0\n",
      "Column Index: 141 \t Minimum: -1.00 \t Maximum: 1.0\n",
      "Column Index: 142 \t Minimum: -0.99 \t Maximum: 1.0\n",
      "Column Index: 143 \t Minimum: -0.98 \t Maximum: 1.0\n",
      "Column Index: 144 \t Minimum: -0.97 \t Maximum: 1.0\n",
      "Column Index: 145 \t Minimum: -1.00 \t Maximum: 1.0\n",
      "Column Index: 146 \t Minimum: -0.99 \t Maximum: 1.0\n",
      "Column Index: 147 \t Minimum: -0.97 \t Maximum: 1.0\n",
      "Column Index: 148 \t Minimum: -0.97 \t Maximum: 1.0\n",
      "Column Index: 149 \t Minimum: -0.99 \t Maximum: 1.0\n",
      "Column Index: 150 \t Minimum: -1.00 \t Maximum: 1.0\n",
      "Column Index: 151 \t Minimum: -1.00 \t Maximum: 1.0\n",
      "Column Index: 152 \t Minimum: -0.99 \t Maximum: 1.0\n",
      "Column Index: 153 \t Minimum: -1.00 \t Maximum: 1.0\n",
      "Column Index: 154 \t Minimum: -1.00 \t Maximum: 1.0\n",
      "Column Index: 155 \t Minimum: -1.00 \t Maximum: 1.0\n",
      "Column Index: 156 \t Minimum: -0.99 \t Maximum: 1.0\n",
      "Column Index: 157 \t Minimum: -1.00 \t Maximum: 1.0\n",
      "Column Index: 158 \t Minimum: -0.99 \t Maximum: 1.0\n",
      "Column Index: 159 \t Minimum: -1.00 \t Maximum: 1.0\n",
      "Column Index: 160 \t Minimum: -1.00 \t Maximum: 1.0\n",
      "Column Index: 161 \t Minimum: -0.91 \t Maximum: 1.0\n",
      "Column Index: 162 \t Minimum: -0.89 \t Maximum: 1.0\n",
      "Column Index: 163 \t Minimum: -0.88 \t Maximum: 1.0\n",
      "Column Index: 164 \t Minimum: -1.00 \t Maximum: 1.0\n",
      "Column Index: 165 \t Minimum: -1.00 \t Maximum: 1.0\n",
      "Column Index: 166 \t Minimum: -1.00 \t Maximum: 1.0\n",
      "Column Index: 167 \t Minimum: -0.99 \t Maximum: 1.0\n",
      "Column Index: 168 \t Minimum: -1.00 \t Maximum: 1.0\n",
      "Column Index: 169 \t Minimum: -1.00 \t Maximum: 1.0\n",
      "Column Index: 170 \t Minimum: -1.00 \t Maximum: 1.0\n",
      "Column Index: 171 \t Minimum: -1.00 \t Maximum: 1.0\n",
      "Column Index: 172 \t Minimum: -0.99 \t Maximum: 1.0\n",
      "Column Index: 173 \t Minimum: -0.99 \t Maximum: 1.0\n",
      "Column Index: 174 \t Minimum: -1.00 \t Maximum: 1.0\n",
      "Column Index: 175 \t Minimum: -0.99 \t Maximum: 1.0\n",
      "Column Index: 176 \t Minimum: -0.99 \t Maximum: 1.0\n",
      "Column Index: 177 \t Minimum: -0.99 \t Maximum: 1.0\n",
      "Column Index: 178 \t Minimum: -0.99 \t Maximum: 1.0\n",
      "Column Index: 179 \t Minimum: -1.00 \t Maximum: 1.0\n",
      "Column Index: 180 \t Minimum: -0.95 \t Maximum: 1.0\n",
      "Column Index: 181 \t Minimum: -0.98 \t Maximum: 1.0\n",
      "Column Index: 182 \t Minimum: -0.99 \t Maximum: 1.0\n",
      "Column Index: 183 \t Minimum: -1.00 \t Maximum: 1.0\n",
      "Column Index: 184 \t Minimum: -0.99 \t Maximum: 1.0\n",
      "Column Index: 185 \t Minimum: -0.99 \t Maximum: 1.0\n",
      "Column Index: 186 \t Minimum: -1.00 \t Maximum: 1.0\n",
      "Column Index: 187 \t Minimum: -1.00 \t Maximum: 1.0\n",
      "Column Index: 188 \t Minimum: -0.99 \t Maximum: 1.0\n",
      "Column Index: 189 \t Minimum: -1.00 \t Maximum: 1.0\n",
      "Column Index: 190 \t Minimum: -1.00 \t Maximum: 1.0\n",
      "Column Index: 191 \t Minimum: -1.00 \t Maximum: 1.0\n",
      "Column Index: 192 \t Minimum: -1.00 \t Maximum: 1.0\n",
      "Column Index: 193 \t Minimum: -0.94 \t Maximum: 1.0\n",
      "Column Index: 194 \t Minimum: -0.99 \t Maximum: 1.0\n",
      "Column Index: 195 \t Minimum: -0.98 \t Maximum: 1.0\n",
      "Column Index: 196 \t Minimum: -1.00 \t Maximum: 1.0\n",
      "Column Index: 197 \t Minimum: -0.99 \t Maximum: 1.0\n",
      "Column Index: 198 \t Minimum: -1.00 \t Maximum: 1.0\n",
      "Column Index: 199 \t Minimum: -1.00 \t Maximum: 1.0\n",
      "Column Index: 200 \t Minimum: -1.00 \t Maximum: 1.0\n",
      "Column Index: 201 \t Minimum: -1.00 \t Maximum: 1.0\n",
      "Column Index: 202 \t Minimum: -1.00 \t Maximum: 1.0\n",
      "Column Index: 203 \t Minimum: -0.99 \t Maximum: 1.0\n",
      "Column Index: 204 \t Minimum: -1.00 \t Maximum: 1.0\n",
      "Column Index: 205 \t Minimum: -1.00 \t Maximum: 1.0\n",
      "Column Index: 206 \t Minimum: -0.99 \t Maximum: 1.0\n",
      "Column Index: 207 \t Minimum: -1.00 \t Maximum: 1.0\n",
      "Column Index: 208 \t Minimum: -1.00 \t Maximum: 1.0\n",
      "Column Index: 209 \t Minimum: -0.99 \t Maximum: 1.0\n",
      "Column Index: 210 \t Minimum: -1.00 \t Maximum: 1.0\n",
      "Column Index: 211 \t Minimum: -1.00 \t Maximum: 1.0\n",
      "Column Index: 212 \t Minimum: -0.98 \t Maximum: 1.0\n",
      "Column Index: 213 \t Minimum: -0.99 \t Maximum: 1.0\n",
      "Column Index: 214 \t Minimum: -0.99 \t Maximum: 1.0\n",
      "Column Index: 215 \t Minimum: -1.00 \t Maximum: 1.0\n",
      "Column Index: 216 \t Minimum: -0.98 \t Maximum: 1.0\n",
      "Column Index: 217 \t Minimum: -0.99 \t Maximum: 1.0\n",
      "Column Index: 218 \t Minimum: -0.99 \t Maximum: 1.0\n",
      "Column Index: 219 \t Minimum: -0.99 \t Maximum: 1.0\n",
      "Column Index: 220 \t Minimum: -1.00 \t Maximum: 1.0\n",
      "Column Index: 221 \t Minimum: -1.00 \t Maximum: 1.0\n",
      "Column Index: 222 \t Minimum: -0.99 \t Maximum: 1.0\n",
      "Column Index: 223 \t Minimum: -1.00 \t Maximum: 1.0\n",
      "Column Index: 224 \t Minimum: -1.00 \t Maximum: 1.0\n",
      "Column Index: 225 \t Minimum: -1.00 \t Maximum: 1.0\n",
      "Column Index: 226 \t Minimum: -0.88 \t Maximum: 1.0\n",
      "Column Index: 227 \t Minimum: -1.00 \t Maximum: 1.0\n",
      "Column Index: 228 \t Minimum: -1.00 \t Maximum: 1.0\n",
      "Column Index: 229 \t Minimum: -1.00 \t Maximum: 1.0\n",
      "Column Index: 230 \t Minimum: -1.00 \t Maximum: 1.0\n",
      "Column Index: 231 \t Minimum: -1.00 \t Maximum: 1.0\n",
      "Column Index: 232 \t Minimum: -1.00 \t Maximum: 1.0\n",
      "Column Index: 233 \t Minimum: -1.00 \t Maximum: 1.0\n",
      "Column Index: 234 \t Minimum: -1.00 \t Maximum: 1.0\n",
      "Column Index: 235 \t Minimum: -1.00 \t Maximum: 1.0\n",
      "Column Index: 236 \t Minimum: -1.00 \t Maximum: 1.0\n",
      "Column Index: 237 \t Minimum: -1.00 \t Maximum: 1.0\n",
      "Column Index: 238 \t Minimum: -1.00 \t Maximum: 1.0\n",
      "Column Index: 239 \t Minimum: -0.94 \t Maximum: 1.0\n",
      "Column Index: 240 \t Minimum: -0.95 \t Maximum: 1.0\n",
      "Column Index: 241 \t Minimum: -0.95 \t Maximum: 1.0\n",
      "Column Index: 242 \t Minimum: -0.89 \t Maximum: 1.0\n",
      "Column Index: 243 \t Minimum: -0.94 \t Maximum: 1.0\n",
      "Column Index: 244 \t Minimum: -1.00 \t Maximum: 1.0\n",
      "Column Index: 245 \t Minimum: -0.95 \t Maximum: 1.0\n",
      "Column Index: 246 \t Minimum: -0.92 \t Maximum: 1.0\n",
      "Column Index: 247 \t Minimum: -0.92 \t Maximum: 1.0\n",
      "Column Index: 248 \t Minimum: -0.96 \t Maximum: 1.0\n",
      "Column Index: 249 \t Minimum: -0.95 \t Maximum: 1.0\n",
      "Column Index: 250 \t Minimum: -0.94 \t Maximum: 1.0\n",
      "Column Index: 251 \t Minimum: -0.94 \t Maximum: 1.0\n",
      "Column Index: 252 \t Minimum: -1.00 \t Maximum: 1.0\n",
      "Column Index: 253 \t Minimum: -1.00 \t Maximum: 1.0\n",
      "Column Index: 254 \t Minimum: -0.95 \t Maximum: 1.0\n",
      "Column Index: 255 \t Minimum: -1.00 \t Maximum: 1.0\n",
      "Column Index: 256 \t Minimum: -1.00 \t Maximum: 1.0\n",
      "Column Index: 257 \t Minimum: -0.92 \t Maximum: 1.0\n",
      "Column Index: 258 \t Minimum: -0.83 \t Maximum: 1.0\n",
      "Column Index: 259 \t Minimum: -0.84 \t Maximum: 1.0\n",
      "Column Index: 260 \t Minimum: -0.95 \t Maximum: 1.0\n",
      "Column Index: 261 \t Minimum: -1.00 \t Maximum: 1.0\n",
      "Column Index: 262 \t Minimum: -1.00 \t Maximum: 1.0\n",
      "Column Index: 263 \t Minimum: -1.00 \t Maximum: 1.0\n",
      "Column Index: 264 \t Minimum: -1.00 \t Maximum: 1.0\n",
      "Column Index: 265 \t Minimum: -1.00 \t Maximum: 1.0\n",
      "Column Index: 266 \t Minimum: -1.00 \t Maximum: 1.0\n",
      "Column Index: 267 \t Minimum: -1.00 \t Maximum: 1.0\n",
      "Column Index: 268 \t Minimum: -1.00 \t Maximum: 1.0\n",
      "Column Index: 269 \t Minimum: -0.95 \t Maximum: 1.0\n",
      "Column Index: 270 \t Minimum: -0.96 \t Maximum: 1.0\n",
      "Column Index: 271 \t Minimum: -0.95 \t Maximum: 1.0\n",
      "Column Index: 272 \t Minimum: -0.94 \t Maximum: 1.0\n",
      "Column Index: 273 \t Minimum: -0.80 \t Maximum: 1.0\n",
      "Column Index: 274 \t Minimum: -0.88 \t Maximum: 1.0\n",
      "Column Index: 275 \t Minimum: -0.95 \t Maximum: 1.0\n",
      "Column Index: 276 \t Minimum: -0.79 \t Maximum: 1.0\n",
      "Column Index: 277 \t Minimum: -1.00 \t Maximum: 1.0\n",
      "Column Index: 278 \t Minimum: -1.00 \t Maximum: 1.0\n",
      "Column Index: 279 \t Minimum: -0.87 \t Maximum: 1.0\n",
      "Column Index: 280 \t Minimum: -0.84 \t Maximum: 1.0\n",
      "Column Index: 281 \t Minimum: -0.88 \t Maximum: 1.0\n",
      "Column Index: 282 \t Minimum: -0.91 \t Maximum: 1.0\n",
      "Column Index: 283 \t Minimum: -0.87 \t Maximum: 1.0\n",
      "Column Index: 284 \t Minimum: -0.95 \t Maximum: 1.0\n",
      "Column Index: 285 \t Minimum: -1.00 \t Maximum: 1.0\n",
      "Column Index: 286 \t Minimum: -1.00 \t Maximum: 1.0\n",
      "Column Index: 287 \t Minimum: -1.00 \t Maximum: 1.0\n",
      "Column Index: 288 \t Minimum: -1.00 \t Maximum: 1.0\n",
      "Column Index: 289 \t Minimum: -0.97 \t Maximum: 1.0\n",
      "Column Index: 290 \t Minimum: -0.81 \t Maximum: 1.0\n",
      "Column Index: 291 \t Minimum: -1.00 \t Maximum: 1.0\n",
      "Column Index: 292 \t Minimum: -0.91 \t Maximum: 1.0\n",
      "Column Index: 293 \t Minimum: -1.00 \t Maximum: 1.0\n",
      "Column Index: 294 \t Minimum: -1.00 \t Maximum: 1.0\n",
      "Column Index: 295 \t Minimum: -1.00 \t Maximum: 1.0\n",
      "Column Index: 296 \t Minimum: -1.00 \t Maximum: 1.0\n",
      "Column Index: 297 \t Minimum: -1.00 \t Maximum: 1.0\n",
      "Column Index: 298 \t Minimum: -1.00 \t Maximum: 1.0\n",
      "Column Index: 299 \t Minimum: -1.00 \t Maximum: 1.0\n",
      "Column Index: 300 \t Minimum: -0.98 \t Maximum: 1.0\n",
      "Column Index: 301 \t Minimum: -0.97 \t Maximum: 1.0\n",
      "Column Index: 302 \t Minimum: -1.00 \t Maximum: 1.0\n",
      "Column Index: 303 \t Minimum: -1.00 \t Maximum: 1.0\n",
      "Column Index: 304 \t Minimum: -1.00 \t Maximum: 1.0\n",
      "Column Index: 305 \t Minimum: -0.97 \t Maximum: 1.0\n",
      "Column Index: 306 \t Minimum: -1.00 \t Maximum: 1.0\n",
      "Column Index: 307 \t Minimum: -0.98 \t Maximum: 1.0\n",
      "Column Index: 308 \t Minimum: -0.97 \t Maximum: 1.0\n",
      "Column Index: 309 \t Minimum: -0.97 \t Maximum: 1.0\n",
      "Column Index: 310 \t Minimum: -1.00 \t Maximum: 1.0\n",
      "Column Index: 311 \t Minimum: -0.93 \t Maximum: 1.0\n",
      "Column Index: 312 \t Minimum: -1.00 \t Maximum: 1.0\n",
      "Column Index: 313 \t Minimum: -0.97 \t Maximum: 1.0\n",
      "Column Index: 314 \t Minimum: -0.98 \t Maximum: 1.0\n",
      "Column Index: 315 \t Minimum: -0.98 \t Maximum: 1.0\n",
      "Column Index: 316 \t Minimum: -1.00 \t Maximum: 1.0\n",
      "Column Index: 317 \t Minimum: -1.00 \t Maximum: 1.0\n",
      "Column Index: 318 \t Minimum: -1.00 \t Maximum: 1.0\n",
      "Column Index: 319 \t Minimum: -1.00 \t Maximum: 1.0\n",
      "Column Index: 320 \t Minimum: -1.00 \t Maximum: 1.0\n",
      "Column Index: 321 \t Minimum: -1.00 \t Maximum: 1.0\n",
      "Column Index: 322 \t Minimum: -1.00 \t Maximum: 1.0\n",
      "Column Index: 323 \t Minimum: -1.00 \t Maximum: 1.0\n",
      "Column Index: 324 \t Minimum: -1.00 \t Maximum: 1.0\n",
      "Column Index: 325 \t Minimum: -1.00 \t Maximum: 1.0\n",
      "Column Index: 326 \t Minimum: -1.00 \t Maximum: 1.0\n",
      "Column Index: 327 \t Minimum: -1.00 \t Maximum: 1.0\n",
      "Column Index: 328 \t Minimum: -1.00 \t Maximum: 1.0\n",
      "Column Index: 329 \t Minimum: -1.00 \t Maximum: 1.0\n",
      "Column Index: 330 \t Minimum: -1.00 \t Maximum: 1.0\n",
      "Column Index: 331 \t Minimum: -0.76 \t Maximum: 1.0\n",
      "Column Index: 332 \t Minimum: -0.74 \t Maximum: 1.0\n",
      "Column Index: 333 \t Minimum: -0.81 \t Maximum: 1.0\n",
      "Column Index: 334 \t Minimum: -0.91 \t Maximum: 1.0\n",
      "Column Index: 335 \t Minimum: -0.95 \t Maximum: 1.0\n",
      "Column Index: 336 \t Minimum: -0.95 \t Maximum: 1.0\n",
      "Column Index: 337 \t Minimum: -0.96 \t Maximum: 1.0\n",
      "Column Index: 338 \t Minimum: -0.96 \t Maximum: 1.0\n",
      "Column Index: 339 \t Minimum: -0.90 \t Maximum: 0.9864\n",
      "Column Index: 340 \t Minimum: -0.91 \t Maximum: 0.9786\n",
      "Column Index: 341 \t Minimum: -0.95 \t Maximum: 0.5722\n",
      "Column Index: 342 \t Minimum: -1.00 \t Maximum: 0.658\n",
      "Column Index: 343 \t Minimum: -1.00 \t Maximum: 0.4202\n",
      "Column Index: 344 \t Minimum: -1.00 \t Maximum: 0.519\n",
      "Column Index: 345 \t Minimum: -1.00 \t Maximum: 1.0\n",
      "Column Index: 346 \t Minimum: -1.00 \t Maximum: 0.8536\n",
      "Column Index: 347 \t Minimum: -1.00 \t Maximum: 0.3624\n",
      "Column Index: 348 \t Minimum: -1.00 \t Maximum: 0.3344\n",
      "Column Index: 349 \t Minimum: -1.00 \t Maximum: 0.0662\n",
      "Column Index: 350 \t Minimum: -1.00 \t Maximum: -0.085\n",
      "Column Index: 351 \t Minimum: -1.00 \t Maximum: -0.1408\n",
      "Column Index: 352 \t Minimum: -1.00 \t Maximum: 0.0768\n",
      "Column Index: 353 \t Minimum: -1.00 \t Maximum: 1.0\n",
      "Column Index: 354 \t Minimum: -1.00 \t Maximum: 1.0\n",
      "Column Index: 355 \t Minimum: -1.00 \t Maximum: 1.0\n",
      "Column Index: 356 \t Minimum: -1.00 \t Maximum: 1.0\n",
      "Column Index: 357 \t Minimum: -1.00 \t Maximum: 1.0\n",
      "Column Index: 358 \t Minimum: -1.00 \t Maximum: 1.0\n",
      "Column Index: 359 \t Minimum: -1.00 \t Maximum: 1.0\n",
      "Column Index: 360 \t Minimum: -1.00 \t Maximum: 1.0\n",
      "Column Index: 361 \t Minimum: -1.00 \t Maximum: 1.0\n",
      "Column Index: 362 \t Minimum: -1.00 \t Maximum: 1.0\n",
      "Column Index: 363 \t Minimum: -1.00 \t Maximum: 1.0\n",
      "Column Index: 364 \t Minimum: -0.94 \t Maximum: 1.0\n",
      "Column Index: 365 \t Minimum: -0.88 \t Maximum: 1.0\n",
      "Column Index: 366 \t Minimum: -0.93 \t Maximum: 1.0\n",
      "Column Index: 367 \t Minimum: -0.89 \t Maximum: 1.0\n",
      "Column Index: 368 \t Minimum: -0.90 \t Maximum: 1.0\n",
      "Column Index: 369 \t Minimum: -0.91 \t Maximum: 1.0\n",
      "Column Index: 370 \t Minimum: -0.88 \t Maximum: 1.0\n",
      "Column Index: 371 \t Minimum: -0.88 \t Maximum: 1.0\n",
      "Column Index: 372 \t Minimum: -0.95 \t Maximum: 0.9898\n",
      "Column Index: 373 \t Minimum: -0.97 \t Maximum: 1.0\n",
      "Column Index: 374 \t Minimum: -0.98 \t Maximum: 0.9198\n",
      "Column Index: 375 \t Minimum: -1.00 \t Maximum: 1.0\n",
      "Column Index: 376 \t Minimum: -1.00 \t Maximum: 1.0\n",
      "Column Index: 377 \t Minimum: -1.00 \t Maximum: 1.0\n",
      "Column Index: 378 \t Minimum: -1.00 \t Maximum: 1.0\n",
      "Column Index: 379 \t Minimum: -1.00 \t Maximum: 1.0\n",
      "Column Index: 380 \t Minimum: -1.00 \t Maximum: 1.0\n",
      "Column Index: 381 \t Minimum: -1.00 \t Maximum: 1.0\n",
      "Column Index: 382 \t Minimum: -1.00 \t Maximum: 1.0\n",
      "Column Index: 383 \t Minimum: -1.00 \t Maximum: 1.0\n",
      "Column Index: 384 \t Minimum: -1.00 \t Maximum: 1.0\n",
      "Column Index: 385 \t Minimum: -1.00 \t Maximum: 1.0\n",
      "Column Index: 386 \t Minimum: -1.00 \t Maximum: 1.0\n",
      "Column Index: 387 \t Minimum: -1.00 \t Maximum: 1.0\n",
      "Column Index: 388 \t Minimum: -1.00 \t Maximum: 1.0\n",
      "Column Index: 389 \t Minimum: -1.00 \t Maximum: 1.0\n",
      "Column Index: 390 \t Minimum: -1.00 \t Maximum: 1.0\n",
      "Column Index: 391 \t Minimum: -1.00 \t Maximum: 1.0\n",
      "Column Index: 392 \t Minimum: -1.00 \t Maximum: 1.0\n",
      "Column Index: 393 \t Minimum: -1.00 \t Maximum: 1.0\n",
      "Column Index: 394 \t Minimum: -1.00 \t Maximum: 1.0\n",
      "Column Index: 395 \t Minimum: -1.00 \t Maximum: 1.0\n",
      "Column Index: 396 \t Minimum: -1.00 \t Maximum: 1.0\n",
      "Column Index: 397 \t Minimum: -1.00 \t Maximum: 0.88\n",
      "Column Index: 398 \t Minimum: -1.00 \t Maximum: 0.8582\n",
      "Column Index: 399 \t Minimum: -0.99 \t Maximum: 0.95\n",
      "Column Index: 400 \t Minimum: -1.00 \t Maximum: 0.94\n",
      "Column Index: 401 \t Minimum: -0.99 \t Maximum: 0.65\n",
      "Column Index: 402 \t Minimum: -1.00 \t Maximum: 0.6974\n",
      "Column Index: 403 \t Minimum: -0.99 \t Maximum: 0.6056\n",
      "Column Index: 404 \t Minimum: -1.00 \t Maximum: 0.537\n",
      "Column Index: 405 \t Minimum: -1.00 \t Maximum: 0.28\n",
      "Column Index: 406 \t Minimum: -1.00 \t Maximum: 0.2628\n",
      "Column Index: 407 \t Minimum: -1.00 \t Maximum: 0.6742\n",
      "Column Index: 408 \t Minimum: -1.00 \t Maximum: 1.0\n",
      "Column Index: 409 \t Minimum: -1.00 \t Maximum: 1.0\n",
      "Column Index: 410 \t Minimum: -1.00 \t Maximum: 1.0\n",
      "Column Index: 411 \t Minimum: -1.00 \t Maximum: 1.0\n",
      "Column Index: 412 \t Minimum: -1.00 \t Maximum: 1.0\n",
      "Column Index: 413 \t Minimum: -1.00 \t Maximum: 1.0\n",
      "Column Index: 414 \t Minimum: -1.00 \t Maximum: 1.0\n",
      "Column Index: 415 \t Minimum: -1.00 \t Maximum: 1.0\n",
      "Column Index: 416 \t Minimum: -1.00 \t Maximum: 1.0\n",
      "Column Index: 417 \t Minimum: -1.00 \t Maximum: 1.0\n",
      "Column Index: 418 \t Minimum: -1.00 \t Maximum: 1.0\n",
      "Column Index: 419 \t Minimum: -1.00 \t Maximum: 1.0\n",
      "Column Index: 420 \t Minimum: -1.00 \t Maximum: 1.0\n",
      "Column Index: 421 \t Minimum: -1.00 \t Maximum: 1.0\n",
      "Column Index: 422 \t Minimum: -1.00 \t Maximum: 1.0\n",
      "Column Index: 423 \t Minimum: -1.00 \t Maximum: 1.0\n",
      "Column Index: 424 \t Minimum: -1.00 \t Maximum: 1.0\n",
      "Column Index: 425 \t Minimum: -1.00 \t Maximum: 1.0\n",
      "Column Index: 426 \t Minimum: -1.00 \t Maximum: 1.0\n",
      "Column Index: 427 \t Minimum: -1.00 \t Maximum: 1.0\n",
      "Column Index: 428 \t Minimum: -1.00 \t Maximum: 1.0\n",
      "Column Index: 429 \t Minimum: -1.00 \t Maximum: 1.0\n",
      "Column Index: 430 \t Minimum: -1.00 \t Maximum: 1.0\n",
      "Column Index: 431 \t Minimum: -1.00 \t Maximum: 1.0\n",
      "Column Index: 432 \t Minimum: -1.00 \t Maximum: 1.0\n",
      "Column Index: 433 \t Minimum: -1.00 \t Maximum: 1.0\n",
      "Column Index: 434 \t Minimum: -1.00 \t Maximum: 1.0\n",
      "Column Index: 435 \t Minimum: -1.00 \t Maximum: 1.0\n",
      "Column Index: 436 \t Minimum: -1.00 \t Maximum: 1.0\n",
      "Column Index: 437 \t Minimum: -1.00 \t Maximum: 1.0\n",
      "Column Index: 438 \t Minimum: -1.00 \t Maximum: 1.0\n",
      "Column Index: 439 \t Minimum: -1.00 \t Maximum: 1.0\n",
      "Column Index: 440 \t Minimum: -1.00 \t Maximum: 1.0\n",
      "Column Index: 441 \t Minimum: -1.00 \t Maximum: 1.0\n",
      "Column Index: 442 \t Minimum: -1.00 \t Maximum: 1.0\n",
      "Column Index: 443 \t Minimum: -1.00 \t Maximum: 1.0\n",
      "Column Index: 444 \t Minimum: -1.00 \t Maximum: 1.0\n",
      "Column Index: 445 \t Minimum: -1.00 \t Maximum: 1.0\n",
      "Column Index: 446 \t Minimum: -1.00 \t Maximum: 1.0\n",
      "Column Index: 447 \t Minimum: -1.00 \t Maximum: 1.0\n",
      "Column Index: 448 \t Minimum: -1.00 \t Maximum: 1.0\n",
      "Column Index: 449 \t Minimum: -1.00 \t Maximum: 1.0\n",
      "Column Index: 450 \t Minimum: -1.00 \t Maximum: 1.0\n",
      "Column Index: 451 \t Minimum: -1.00 \t Maximum: 1.0\n",
      "Column Index: 452 \t Minimum: -1.00 \t Maximum: 1.0\n",
      "Column Index: 453 \t Minimum: -1.00 \t Maximum: 1.0\n",
      "Column Index: 454 \t Minimum: -1.00 \t Maximum: 1.0\n",
      "Column Index: 455 \t Minimum: -1.00 \t Maximum: 1.0\n",
      "Column Index: 456 \t Minimum: -1.00 \t Maximum: 1.0\n",
      "Column Index: 457 \t Minimum: -1.00 \t Maximum: 1.0\n",
      "Column Index: 458 \t Minimum: -1.00 \t Maximum: 1.0\n",
      "Column Index: 459 \t Minimum: -1.00 \t Maximum: 1.0\n",
      "Column Index: 460 \t Minimum: -1.00 \t Maximum: 1.0\n",
      "Column Index: 461 \t Minimum: -1.00 \t Maximum: 1.0\n",
      "Column Index: 462 \t Minimum: -1.00 \t Maximum: 1.0\n",
      "Column Index: 463 \t Minimum: -1.00 \t Maximum: 1.0\n",
      "Column Index: 464 \t Minimum: -1.00 \t Maximum: 1.0\n",
      "Column Index: 465 \t Minimum: -1.00 \t Maximum: 1.0\n",
      "Column Index: 466 \t Minimum: -1.00 \t Maximum: 1.0\n",
      "Column Index: 467 \t Minimum: -1.00 \t Maximum: 1.0\n",
      "Column Index: 468 \t Minimum: -1.00 \t Maximum: 1.0\n",
      "Column Index: 469 \t Minimum: -1.00 \t Maximum: 1.0\n",
      "Column Index: 470 \t Minimum: -1.00 \t Maximum: 1.0\n",
      "Column Index: 471 \t Minimum: -1.00 \t Maximum: 1.0\n",
      "Column Index: 472 \t Minimum: -1.00 \t Maximum: 1.0\n",
      "Column Index: 473 \t Minimum: -0.98 \t Maximum: 1.0\n",
      "Column Index: 474 \t Minimum: -1.00 \t Maximum: 1.0\n",
      "Column Index: 475 \t Minimum: -0.96 \t Maximum: 1.0\n",
      "Column Index: 476 \t Minimum: -0.95 \t Maximum: 1.0\n",
      "Column Index: 477 \t Minimum: -0.94 \t Maximum: 1.0\n",
      "Column Index: 478 \t Minimum: -0.94 \t Maximum: 1.0\n",
      "Column Index: 479 \t Minimum: -1.00 \t Maximum: 1.0\n",
      "Column Index: 480 \t Minimum: -0.99 \t Maximum: 1.0\n",
      "Column Index: 481 \t Minimum: -0.96 \t Maximum: 1.0\n",
      "Column Index: 482 \t Minimum: -0.92 \t Maximum: 1.0\n",
      "Column Index: 483 \t Minimum: -0.92 \t Maximum: 1.0\n",
      "Column Index: 484 \t Minimum: -0.93 \t Maximum: 1.0\n",
      "Column Index: 485 \t Minimum: -0.84 \t Maximum: 1.0\n",
      "Column Index: 486 \t Minimum: -0.72 \t Maximum: 1.0\n",
      "Column Index: 487 \t Minimum: -0.74 \t Maximum: 1.0\n",
      "Column Index: 488 \t Minimum: -0.69 \t Maximum: 1.0\n",
      "Column Index: 489 \t Minimum: -0.71 \t Maximum: 1.0\n",
      "Column Index: 490 \t Minimum: -0.84 \t Maximum: 1.0\n",
      "Column Index: 491 \t Minimum: -0.84 \t Maximum: 1.0\n",
      "Column Index: 492 \t Minimum: -0.68 \t Maximum: 1.0\n",
      "Column Index: 493 \t Minimum: -0.67 \t Maximum: 1.0\n",
      "Column Index: 494 \t Minimum: -0.62 \t Maximum: 1.0\n",
      "Column Index: 495 \t Minimum: -0.55 \t Maximum: 1.0\n",
      "Column Index: 496 \t Minimum: -0.53 \t Maximum: 1.0\n",
      "Column Index: 497 \t Minimum: -0.55 \t Maximum: 1.0\n",
      "Column Index: 498 \t Minimum: -0.58 \t Maximum: 1.0\n",
      "Column Index: 499 \t Minimum: -0.64 \t Maximum: 1.0\n",
      "Column Index: 500 \t Minimum: -0.60 \t Maximum: 1.0\n",
      "Column Index: 501 \t Minimum: -0.64 \t Maximum: 1.0\n",
      "Column Index: 502 \t Minimum: -0.73 \t Maximum: 1.0\n",
      "Column Index: 503 \t Minimum: -0.71 \t Maximum: 1.0\n",
      "Column Index: 504 \t Minimum: -0.70 \t Maximum: 1.0\n",
      "Column Index: 505 \t Minimum: -0.82 \t Maximum: 1.0\n",
      "Column Index: 506 \t Minimum: -0.77 \t Maximum: 1.0\n",
      "Column Index: 507 \t Minimum: -0.69 \t Maximum: 1.0\n",
      "Column Index: 508 \t Minimum: -0.82 \t Maximum: 1.0\n",
      "Column Index: 509 \t Minimum: -0.83 \t Maximum: 1.0\n",
      "Column Index: 510 \t Minimum: -0.80 \t Maximum: 1.0\n",
      "Column Index: 511 \t Minimum: -0.98 \t Maximum: 0.7988\n",
      "Column Index: 512 \t Minimum: -0.99 \t Maximum: 1.0\n",
      "Column Index: 513 \t Minimum: -0.91 \t Maximum: 1.0\n",
      "Column Index: 514 \t Minimum: -0.96 \t Maximum: 1.0\n",
      "Column Index: 515 \t Minimum: -0.97 \t Maximum: 1.0\n",
      "Column Index: 516 \t Minimum: -0.95 \t Maximum: 1.0\n",
      "Column Index: 517 \t Minimum: -0.88 \t Maximum: 1.0\n",
      "Column Index: 518 \t Minimum: -0.73 \t Maximum: 1.0\n",
      "Column Index: 519 \t Minimum: -0.68 \t Maximum: 1.0\n",
      "Column Index: 520 \t Minimum: -0.83 \t Maximum: 1.0\n",
      "Column Index: 521 \t Minimum: -0.78 \t Maximum: 1.0\n",
      "Column Index: 522 \t Minimum: -0.65 \t Maximum: 1.0\n",
      "Column Index: 523 \t Minimum: -0.57 \t Maximum: 1.0\n",
      "Column Index: 524 \t Minimum: -0.71 \t Maximum: 1.0\n",
      "Column Index: 525 \t Minimum: -0.68 \t Maximum: 1.0\n",
      "Column Index: 526 \t Minimum: -0.63 \t Maximum: 1.0\n",
      "Column Index: 527 \t Minimum: -0.58 \t Maximum: 1.0\n",
      "Column Index: 528 \t Minimum: -0.59 \t Maximum: 1.0\n",
      "Column Index: 529 \t Minimum: -0.64 \t Maximum: 1.0\n",
      "Column Index: 530 \t Minimum: -0.64 \t Maximum: 1.0\n",
      "Column Index: 531 \t Minimum: -0.74 \t Maximum: 1.0\n",
      "Column Index: 532 \t Minimum: -0.65 \t Maximum: 1.0\n",
      "Column Index: 533 \t Minimum: -0.82 \t Maximum: 1.0\n",
      "Column Index: 534 \t Minimum: -0.85 \t Maximum: 1.0\n",
      "Column Index: 535 \t Minimum: -0.79 \t Maximum: 1.0\n",
      "Column Index: 536 \t Minimum: -0.86 \t Maximum: 1.0\n",
      "Column Index: 537 \t Minimum: -0.91 \t Maximum: 1.0\n",
      "Column Index: 538 \t Minimum: -0.82 \t Maximum: 1.0\n",
      "Column Index: 539 \t Minimum: -0.89 \t Maximum: 1.0\n",
      "Column Index: 540 \t Minimum: -0.76 \t Maximum: 1.0\n",
      "Column Index: 541 \t Minimum: -0.90 \t Maximum: 1.0\n",
      "Column Index: 542 \t Minimum: -0.79 \t Maximum: 1.0\n",
      "Column Index: 543 \t Minimum: -0.98 \t Maximum: 0.8876\n",
      "Column Index: 544 \t Minimum: -0.99 \t Maximum: 1.0\n",
      "Column Index: 545 \t Minimum: -0.93 \t Maximum: 1.0\n",
      "Column Index: 546 \t Minimum: -0.92 \t Maximum: 1.0\n",
      "Column Index: 547 \t Minimum: -0.98 \t Maximum: 1.0\n",
      "Column Index: 548 \t Minimum: -0.92 \t Maximum: 1.0\n",
      "Column Index: 549 \t Minimum: -0.84 \t Maximum: 1.0\n",
      "Column Index: 550 \t Minimum: -0.75 \t Maximum: 1.0\n",
      "Column Index: 551 \t Minimum: -0.66 \t Maximum: 1.0\n",
      "Column Index: 552 \t Minimum: -0.60 \t Maximum: 1.0\n",
      "Column Index: 553 \t Minimum: -0.63 \t Maximum: 1.0\n",
      "Column Index: 554 \t Minimum: -0.57 \t Maximum: 1.0\n",
      "Column Index: 555 \t Minimum: -0.44 \t Maximum: 1.0\n",
      "Column Index: 556 \t Minimum: -0.45 \t Maximum: 1.0\n",
      "Column Index: 557 \t Minimum: -0.48 \t Maximum: 1.0\n",
      "Column Index: 558 \t Minimum: -0.56 \t Maximum: 1.0\n",
      "Column Index: 559 \t Minimum: -0.52 \t Maximum: 1.0\n",
      "Column Index: 560 \t Minimum: -0.59 \t Maximum: 1.0\n",
      "Column Index: 561 \t Minimum: -0.61 \t Maximum: 1.0\n",
      "Column Index: 562 \t Minimum: -0.82 \t Maximum: 1.0\n",
      "Column Index: 563 \t Minimum: -0.76 \t Maximum: 1.0\n",
      "Column Index: 564 \t Minimum: -0.82 \t Maximum: 1.0\n",
      "Column Index: 565 \t Minimum: -0.82 \t Maximum: 1.0\n",
      "Column Index: 566 \t Minimum: -0.81 \t Maximum: 1.0\n",
      "Column Index: 567 \t Minimum: -0.76 \t Maximum: 1.0\n",
      "Column Index: 568 \t Minimum: -0.95 \t Maximum: 1.0\n",
      "Column Index: 569 \t Minimum: -0.83 \t Maximum: 1.0\n",
      "Column Index: 570 \t Minimum: -0.83 \t Maximum: 1.0\n",
      "Column Index: 571 \t Minimum: -0.81 \t Maximum: 1.0\n",
      "Column Index: 572 \t Minimum: -0.79 \t Maximum: 1.0\n",
      "Column Index: 573 \t Minimum: -0.86 \t Maximum: 1.0\n",
      "Column Index: 574 \t Minimum: -0.88 \t Maximum: 1.0\n",
      "Column Index: 575 \t Minimum: -0.98 \t Maximum: 0.8678\n",
      "Column Index: 576 \t Minimum: -1.00 \t Maximum: 1.0\n",
      "Column Index: 577 \t Minimum: -1.00 \t Maximum: 1.0\n",
      "Column Index: 578 \t Minimum: -1.00 \t Maximum: 1.0\n",
      "Column Index: 579 \t Minimum: -1.00 \t Maximum: 1.0\n",
      "Column Index: 580 \t Minimum: -1.00 \t Maximum: 1.0\n",
      "Column Index: 581 \t Minimum: -1.00 \t Maximum: 1.0\n",
      "Column Index: 582 \t Minimum: -1.00 \t Maximum: 1.0\n",
      "Column Index: 583 \t Minimum: -1.00 \t Maximum: 1.0\n",
      "Column Index: 584 \t Minimum: -1.00 \t Maximum: 1.0\n",
      "Column Index: 585 \t Minimum: -0.99 \t Maximum: 1.0\n",
      "Column Index: 586 \t Minimum: -0.92 \t Maximum: 1.0\n",
      "Column Index: 587 \t Minimum: -0.89 \t Maximum: 1.0\n",
      "Column Index: 588 \t Minimum: -0.87 \t Maximum: 1.0\n",
      "Column Index: 589 \t Minimum: -0.78 \t Maximum: 1.0\n",
      "Column Index: 590 \t Minimum: -0.82 \t Maximum: 1.0\n",
      "Column Index: 591 \t Minimum: -0.72 \t Maximum: 1.0\n",
      "Column Index: 592 \t Minimum: -0.60 \t Maximum: 1.0\n",
      "Column Index: 593 \t Minimum: -0.63 \t Maximum: 1.0\n",
      "Column Index: 594 \t Minimum: -0.62 \t Maximum: 1.0\n",
      "Column Index: 595 \t Minimum: -0.63 \t Maximum: 1.0\n",
      "Column Index: 596 \t Minimum: -0.56 \t Maximum: 1.0\n",
      "Column Index: 597 \t Minimum: -0.49 \t Maximum: 1.0\n",
      "Column Index: 598 \t Minimum: -0.53 \t Maximum: 1.0\n",
      "Column Index: 599 \t Minimum: -0.54 \t Maximum: 1.0\n",
      "Column Index: 600 \t Minimum: -0.79 \t Maximum: 1.0\n",
      "Column Index: 601 \t Minimum: -0.76 \t Maximum: 1.0\n",
      "Column Index: 602 \t Minimum: -0.60 \t Maximum: 1.0\n",
      "Column Index: 603 \t Minimum: -0.66 \t Maximum: 1.0\n",
      "Column Index: 604 \t Minimum: -0.62 \t Maximum: 1.0\n",
      "Column Index: 605 \t Minimum: -0.58 \t Maximum: 1.0\n",
      "Column Index: 606 \t Minimum: -0.74 \t Maximum: 1.0\n",
      "Column Index: 607 \t Minimum: -0.61 \t Maximum: 1.0\n",
      "Column Index: 608 \t Minimum: -0.73 \t Maximum: 1.0\n",
      "Column Index: 609 \t Minimum: -0.78 \t Maximum: 1.0\n",
      "Column Index: 610 \t Minimum: -0.83 \t Maximum: 1.0\n",
      "Column Index: 611 \t Minimum: -0.71 \t Maximum: 1.0\n",
      "Column Index: 612 \t Minimum: -0.77 \t Maximum: 1.0\n",
      "Column Index: 613 \t Minimum: -0.81 \t Maximum: 1.0\n",
      "Column Index: 614 \t Minimum: -0.78 \t Maximum: 1.0\n",
      "Column Index: 615 \t Minimum: -0.80 \t Maximum: 1.0\n",
      "Column Index: 616 \t Minimum: -0.96 \t Maximum: 0.8898\n"
     ]
    }
   ],
   "source": [
    "for index in x_train.columns:\n",
    "    print(\"Column Index: {} \\t Minimum: {:.2f} \\t Maximum: {}\".format(index,x_train[index].min(),x_train[index].max()))"
   ]
  },
  {
   "cell_type": "markdown",
   "metadata": {
    "id": "4zGkW-tTO90k"
   },
   "source": [
    "All the feature values lie between -1 and +1. And, hence we do not need any more normalization."
   ]
  },
  {
   "cell_type": "markdown",
   "metadata": {},
   "source": [
    "### KDD - Data Mining and Pattern Recogntion step"
   ]
  },
  {
   "cell_type": "markdown",
   "metadata": {
    "id": "rI20YyaKO90l"
   },
   "source": [
    "**Clustering - KMeans**"
   ]
  },
  {
   "cell_type": "code",
   "execution_count": 29,
   "metadata": {
    "colab": {
     "base_uri": "https://localhost:8080/"
    },
    "id": "VSXwWd7nO90l",
    "outputId": "8feaeee4-a23b-496e-bc84-e23149abaa4c"
   },
   "outputs": [
    {
     "name": "stdout",
     "output_type": "stream",
     "text": [
      "Training Accuracy: 0.018 Testing Accuracy: 0.017\n"
     ]
    }
   ],
   "source": [
    "kmeans = KMeans(n_clusters=26, random_state=0).fit(x_train)\n",
    "y_train_pred = kmeans.predict(x_train)\n",
    "y_test_pred = kmeans.predict(x_test)\n",
    "\n",
    "print(\"Training Accuracy: {:.3f} Testing Accuracy: {:.3f}\".format(accuracy_score(y_train,y_train_pred),accuracy_score(y_test,y_test_pred)))"
   ]
  },
  {
   "cell_type": "markdown",
   "metadata": {},
   "source": [
    "KMeans clustering failed terribly on our dataset. Let's try doing classification."
   ]
  },
  {
   "cell_type": "markdown",
   "metadata": {
    "id": "L72ALKsEO90l"
   },
   "source": [
    "**Classification - KNearest Neighbor Algorithm**"
   ]
  },
  {
   "cell_type": "code",
   "execution_count": 7,
   "metadata": {
    "colab": {
     "base_uri": "https://localhost:8080/"
    },
    "id": "Jo2EaBlzO90l",
    "outputId": "2cb6d73e-8193-43dd-e5f4-c4a67d710026"
   },
   "outputs": [
    {
     "name": "stdout",
     "output_type": "stream",
     "text": [
      "Training Accuracy: 0.933 Testing Accuracy: 0.913\n"
     ]
    }
   ],
   "source": [
    "neigh = KNeighborsClassifier()\n",
    "neigh.fit(x_train, y_train)\n",
    "print(\"Training Accuracy: {:.3f} Testing Accuracy: {:.3f}\".format(neigh.score(x_train,y_train),neigh.score(x_test,y_test)))"
   ]
  },
  {
   "cell_type": "markdown",
   "metadata": {
    "id": "KurQzVsTO90l"
   },
   "source": [
    "That was a very good start to classify. We got 93.3% on train and 91.3% on test data which is great considering this is a multi class classification problem. We also do not see evidence of overfitting. \n",
    "\n",
    "We achieved this high accuracy with a default parameters. We will try tuning the model with hyper-parameters."
   ]
  },
  {
   "cell_type": "code",
   "execution_count": 18,
   "metadata": {
    "colab": {
     "base_uri": "https://localhost:8080/"
    },
    "id": "93n0k7BsO90l",
    "outputId": "540769ac-e8fa-4b9f-cc86-2b5739b2cd9b"
   },
   "outputs": [
    {
     "name": "stdout",
     "output_type": "stream",
     "text": [
      "Total time: 1295.4524528980255\n",
      "Best Cross-Validation Score: 0.909\n",
      "Test Score: 0.915\n",
      "Best Parameters: {'n_neighbors': 11, 'p': 2}\n"
     ]
    }
   ],
   "source": [
    "parameters = {'n_neighbors': range(1,51,2),'p':[1,2]}\n",
    "neigh = KNeighborsClassifier()\n",
    "gs_neigh = GridSearchCV(neigh, parameters, n_jobs=-1,cv=5)\n",
    "start = time.time()\n",
    "gs_neigh.fit(x_train,y_train)\n",
    "print(\"Total time:\",time.time()-start)\n",
    "print(\"Best Cross-Validation Score: {:.3f}\\nTest Score: {:.3f}\\nBest Parameters: {}\".format(gs_neigh.best_score_,gs_neigh.score(x_test, y_test) ,gs_neigh.best_params_))"
   ]
  },
  {
   "cell_type": "markdown",
   "metadata": {
    "id": "WPmEbRDcRE8m"
   },
   "source": [
    "We increased the performance on the test data marginally. Let's try a different classifier to see if it helps."
   ]
  },
  {
   "cell_type": "markdown",
   "metadata": {
    "id": "A0pWGrNjRFUI"
   },
   "source": [
    "**Classification - Decision Tree Classifier**"
   ]
  },
  {
   "cell_type": "code",
   "execution_count": 22,
   "metadata": {
    "colab": {
     "base_uri": "https://localhost:8080/"
    },
    "id": "lZOQaF1DO90m",
    "outputId": "da3af354-765b-430b-bd27-8d68ec8f8c45"
   },
   "outputs": [
    {
     "name": "stdout",
     "output_type": "stream",
     "text": [
      "Total time: 231.60716485977173\n",
      "Best Cross-Validation Score: 0.809\n",
      "Test Score: 0.817\n",
      "Best Parameters: {'criterion': 'entropy', 'max_depth': 15, 'max_features': None}\n"
     ]
    }
   ],
   "source": [
    "parameters = {'max_features': [None,'sqrt','log2'], 'criterion':['gini','entropy'],'max_depth': [5,10,15,None]}\n",
    "DT =  DecisionTreeClassifier()\n",
    "gs_dt = GridSearchCV(DT, parameters, n_jobs=-1,cv=5)\n",
    "start = time.time()\n",
    "gs_dt.fit(x_train,y_train)\n",
    "print(\"Total time:\",time.time()-start)\n",
    "print(\"Best Cross-Validation Score: {:.3f}\\nTest Score: {:.3f}\\nBest Parameters: {}\".format(gs_dt.best_score_,gs_dt.score(x_test, y_test) ,gs_dt.best_params_))"
   ]
  },
  {
   "cell_type": "markdown",
   "metadata": {
    "id": "SKd13D8ifXHq"
   },
   "source": [
    "A singel decision tree did not work in our favour. The performance was lower than that of a KNN algorithm. Hence, experimenting if an ensemble of trees such as the random forest classifier produce better performance."
   ]
  },
  {
   "cell_type": "markdown",
   "metadata": {},
   "source": [
    "**Classification - Random Forest Classifier**"
   ]
  },
  {
   "cell_type": "code",
   "execution_count": 48,
   "metadata": {
    "colab": {
     "base_uri": "https://localhost:8080/"
    },
    "id": "uMgHP3-d9AOe",
    "outputId": "61562541-6768-4ad2-cf5a-3d14ebdcac49"
   },
   "outputs": [
    {
     "name": "stdout",
     "output_type": "stream",
     "text": [
      "Total time: 12.777966260910034\n",
      "Training Score: 1.000\n",
      "Test Score: 0.945\n"
     ]
    }
   ],
   "source": [
    "rf_clf =  RandomForestClassifier(n_estimators = 100)\n",
    "start = time.time()\n",
    "rf_clf.fit(x_train,y_train)\n",
    "print(\"Total time:\",time.time()-start)\n",
    "print(\"Training Score: {:.3f}\\nTest Score: {:.3f}\".format(rf_clf.score(x_train, y_train),rf_clf.score(x_test, y_test)))"
   ]
  },
  {
   "cell_type": "markdown",
   "metadata": {
    "id": "ubogI-eB-kSt"
   },
   "source": [
    "We could see some clear evidence of overfitting here. Let us deal with overfitting by early pruning. Playing with the maximum depth of the tree, and number of samples for leaf and node split can reduce overfitting"
   ]
  },
  {
   "cell_type": "code",
   "execution_count": 49,
   "metadata": {
    "colab": {
     "base_uri": "https://localhost:8080/"
    },
    "id": "w4-uM9fdfSIl",
    "outputId": "6dd0ce91-caab-4da6-d2b0-bfc6359cde50"
   },
   "outputs": [
    {
     "name": "stdout",
     "output_type": "stream",
     "text": [
      "Fitting 2 folds for each of 486 candidates, totalling 972 fits\n"
     ]
    },
    {
     "name": "stderr",
     "output_type": "stream",
     "text": [
      "[Parallel(n_jobs=-1)]: Using backend LokyBackend with 2 concurrent workers.\n",
      "[Parallel(n_jobs=-1)]: Done   1 tasks      | elapsed:    1.1s\n",
      "[Parallel(n_jobs=-1)]: Done  14 tasks      | elapsed:   26.8s\n",
      "[Parallel(n_jobs=-1)]: Done  37 tasks      | elapsed:  1.2min\n",
      "[Parallel(n_jobs=-1)]: Done  68 tasks      | elapsed:  2.2min\n",
      "[Parallel(n_jobs=-1)]: Done 109 tasks      | elapsed:  3.5min\n",
      "[Parallel(n_jobs=-1)]: Done 158 tasks      | elapsed:  5.0min\n",
      "[Parallel(n_jobs=-1)]: Done 217 tasks      | elapsed:  7.2min\n",
      "[Parallel(n_jobs=-1)]: Done 284 tasks      | elapsed:  9.7min\n",
      "[Parallel(n_jobs=-1)]: Done 361 tasks      | elapsed: 12.7min\n",
      "[Parallel(n_jobs=-1)]: Done 446 tasks      | elapsed: 16.3min\n",
      "[Parallel(n_jobs=-1)]: Done 541 tasks      | elapsed: 20.4min\n",
      "[Parallel(n_jobs=-1)]: Done 644 tasks      | elapsed: 25.1min\n",
      "[Parallel(n_jobs=-1)]: Done 757 tasks      | elapsed: 30.6min\n",
      "[Parallel(n_jobs=-1)]: Done 878 tasks      | elapsed: 36.7min\n",
      "[Parallel(n_jobs=-1)]: Done 972 out of 972 | elapsed: 41.3min finished\n"
     ]
    },
    {
     "name": "stdout",
     "output_type": "stream",
     "text": [
      "Total time: 2487.3155903816223\n",
      "Best Cross-Validation Score: 0.923\n",
      "Test Score: 0.937\n",
      "Best Parameters: {'max_depth': 10, 'min_samples_leaf': 1, 'min_samples_split': 6, 'n_estimators': 100}\n"
     ]
    }
   ],
   "source": [
    "parameters = {'n_estimators':[100],'max_depth': [5,6,7,8,9,10], 'min_samples_split': range(1,10), 'min_samples_leaf': range(1,10)}\n",
    "rf =  RandomForestClassifier()\n",
    "gs_rf = GridSearchCV(rf, parameters, n_jobs=-1,cv=2, verbose = 8)\n",
    "start = time.time()\n",
    "gs_rf.fit(x_train,y_train)\n",
    "print(\"Total time:\",time.time()-start)\n",
    "print(\"Best Cross-Validation Score: {:.3f}\\nTest Score: {:.3f}\\nBest Parameters: {}\".format(gs_rf.best_score_,gs_rf.score(x_test, y_test) ,gs_rf.best_params_))"
   ]
  },
  {
   "cell_type": "code",
   "execution_count": 50,
   "metadata": {
    "colab": {
     "base_uri": "https://localhost:8080/"
    },
    "id": "xBYDqsEJdHY0",
    "outputId": "1c290357-0eac-4572-9ca1-14d53389445b"
   },
   "outputs": [
    {
     "name": "stdout",
     "output_type": "stream",
     "text": [
      "Training Score: 0.980\n",
      "Test Score: 0.937\n"
     ]
    }
   ],
   "source": [
    "print(\"Training Score: {:.3f}\\nTest Score: {:.3f}\".format(gs_rf.score(x_train, y_train),gs_rf.score(x_test, y_test)))"
   ]
  },
  {
   "cell_type": "markdown",
   "metadata": {
    "id": "o_Rt8pjpItQt"
   },
   "source": [
    "We were able to produce a random forest classifier capabale of predicting the spoken letter with 93.7% accuracy.\n",
    "\n",
    "Let's also try having different number of features for the decision tree"
   ]
  },
  {
   "cell_type": "code",
   "execution_count": 3,
   "metadata": {
    "colab": {
     "base_uri": "https://localhost:8080/"
    },
    "id": "iPkD5WBaIsiZ",
    "outputId": "cbb3f3dd-63b7-4649-de70-3e8b9fb73dd5"
   },
   "outputs": [
    {
     "name": "stdout",
     "output_type": "stream",
     "text": [
      "Fitting 2 folds for each of 7 candidates, totalling 14 fits\n"
     ]
    },
    {
     "name": "stderr",
     "output_type": "stream",
     "text": [
      "[Parallel(n_jobs=-1)]: Using backend LokyBackend with 8 concurrent workers.\n",
      "[Parallel(n_jobs=-1)]: Done   3 out of  14 | elapsed:   10.1s remaining:   37.4s\n",
      "[Parallel(n_jobs=-1)]: Done   5 out of  14 | elapsed:   35.9s remaining:  1.1min\n",
      "[Parallel(n_jobs=-1)]: Done   7 out of  14 | elapsed:  1.2min remaining:  1.2min\n",
      "[Parallel(n_jobs=-1)]: Done   9 out of  14 | elapsed:  1.8min remaining:  1.0min\n",
      "[Parallel(n_jobs=-1)]: Done  11 out of  14 | elapsed:  2.6min remaining:   41.7s\n",
      "[Parallel(n_jobs=-1)]: Done  14 out of  14 | elapsed:  3.0min finished\n"
     ]
    },
    {
     "name": "stdout",
     "output_type": "stream",
     "text": [
      "Total time: 187.66743755340576\n",
      "Best Cross-Validation Score: 0.920\n",
      "Test Score: 0.923\n",
      "Best Parameters: {'max_depth': 10, 'max_features': 'sqrt', 'min_samples_leaf': 6, 'n_estimators': 100}\n",
      "Training Score: 0.970\n",
      "Test Score: 0.923\n"
     ]
    }
   ],
   "source": [
    "parameters = {'n_estimators':[100],'max_depth': [10], 'min_samples_leaf': [6], 'max_features':['sqrt',None,'log2',100,200,300,400]}\n",
    "rf =  RandomForestClassifier()\n",
    "gs_rf = GridSearchCV(rf, parameters, n_jobs=-1,cv=2, verbose = 8)\n",
    "start = time.time()\n",
    "gs_rf.fit(x_train,y_train)\n",
    "print(\"Total time:\",time.time()-start)\n",
    "print(\"Best Cross-Validation Score: {:.3f}\\nTest Score: {:.3f}\\nBest Parameters: {}\".format(gs_rf.best_score_,gs_rf.score(x_test, y_test) ,gs_rf.best_params_))\n",
    "print(\"Training Score: {:.3f}\\nTest Score: {:.3f}\".format(gs_rf.score(x_train, y_train),gs_rf.score(x_test, y_test)))"
   ]
  },
  {
   "cell_type": "markdown",
   "metadata": {},
   "source": [
    "### KDD - Data Transformation Step"
   ]
  },
  {
   "cell_type": "markdown",
   "metadata": {
    "id": "3kcKBe5oMnWz"
   },
   "source": [
    "**Principal Component Analysis**"
   ]
  },
  {
   "cell_type": "code",
   "execution_count": 56,
   "metadata": {
    "id": "R3Ldg1FOfqOn"
   },
   "outputs": [
    {
     "data": {
      "text/plain": [
       "Text(0.5, 1.0, 'Cumulative variance explained by the components')"
      ]
     },
     "execution_count": 56,
     "metadata": {},
     "output_type": "execute_result"
    },
    {
     "data": {
      "image/png": "[encoded data removed]",
      "text/plain": [
       "<Figure size 432x288 with 1 Axes>"
      ]
     },
     "metadata": {
      "needs_background": "light"
     },
     "output_type": "display_data"
    }
   ],
   "source": [
    "pca = PCA().fit(x_train)\n",
    "plt.plot(pca.explained_variance_ratio_.cumsum())\n",
    "plt.xlabel(\"Components\")\n",
    "plt.ylabel(\"Cumulative Explained Variance\")\n",
    "plt.title(\"Cumulative variance explained by the components\")"
   ]
  },
  {
   "cell_type": "code",
   "execution_count": 22,
   "metadata": {},
   "outputs": [
    {
     "data": {
      "text/plain": [
       "array([0.24847975, 0.33739595, 0.40026603, 0.4460129 , 0.48649971,\n",
       "       0.51959315, 0.54744809, 0.56974244, 0.58939642, 0.60701602,\n",
       "       0.62152517, 0.63500892, 0.64822245, 0.66076165, 0.67185615,\n",
       "       0.68199269, 0.69170958, 0.70091314, 0.70940018, 0.71667807,\n",
       "       0.72364743, 0.73027903, 0.73643344, 0.74241866, 0.7482144 ,\n",
       "       0.75367647, 0.75884138, 0.76396299, 0.76845544, 0.77278512,\n",
       "       0.77706939, 0.78116108, 0.78502409, 0.78885333, 0.79262743,\n",
       "       0.79622529, 0.79968735, 0.80307554, 0.80639333, 0.8095815 ,\n",
       "       0.8126276 , 0.81559989, 0.81847533, 0.8212907 , 0.82404664,\n",
       "       0.82661667, 0.82915787, 0.83163867, 0.8340481 , 0.8363711 ,\n",
       "       0.83864654, 0.84091917, 0.84309659, 0.84525873, 0.84733192,\n",
       "       0.84937512, 0.8513972 , 0.85336229, 0.85527727, 0.85718053,\n",
       "       0.85902855, 0.86082587, 0.86260216, 0.86435178, 0.86605443,\n",
       "       0.8677337 , 0.86938508, 0.87095557, 0.87251659, 0.87402955,\n",
       "       0.87551469, 0.87694985, 0.87836447, 0.87976152, 0.88113699,\n",
       "       0.88248616, 0.88380966, 0.88509446, 0.88635893, 0.88760657,\n",
       "       0.88884211, 0.89005673, 0.89126273, 0.89243777, 0.89358759,\n",
       "       0.89471464, 0.89583173, 0.89690765, 0.89797818, 0.89904208,\n",
       "       0.90008937])"
      ]
     },
     "execution_count": 22,
     "metadata": {},
     "output_type": "execute_result"
    }
   ],
   "source": [
    "pca.explained_variance_ratio_.cumsum()[:91]"
   ]
  },
  {
   "cell_type": "markdown",
   "metadata": {},
   "source": [
    "With 91 components, we are able to capture 90% variance in the data. Hence, we are now going to train a random forest classifier using these 91 components of data."
   ]
  },
  {
   "cell_type": "code",
   "execution_count": 24,
   "metadata": {},
   "outputs": [],
   "source": [
    "x_train_transform = pca.transform(x_train)\n",
    "x_test_transform = pca.transform(x_test)"
   ]
  },
  {
   "cell_type": "code",
   "execution_count": 25,
   "metadata": {},
   "outputs": [
    {
     "name": "stdout",
     "output_type": "stream",
     "text": [
      "Total time: 39.346816301345825\n",
      "Training Score: 1.000\n",
      "Test Score: 0.870\n"
     ]
    }
   ],
   "source": [
    "rf_clf_2 =  RandomForestClassifier(n_estimators = 100)\n",
    "start = time.time()\n",
    "rf_clf_2.fit(x_train_transform,y_train)\n",
    "print(\"Total time:\",time.time()-start)\n",
    "print(\"Training Score: {:.3f}\\nTest Score: {:.3f}\".format(rf_clf_2.score(x_train_transform, y_train),rf_clf_2.score(x_test_transform, y_test)))"
   ]
  },
  {
   "cell_type": "markdown",
   "metadata": {},
   "source": [
    "Once again we see evidence of overfitting, hence we try and reduce overfitting by early pruning"
   ]
  },
  {
   "cell_type": "code",
   "execution_count": 26,
   "metadata": {},
   "outputs": [
    {
     "name": "stdout",
     "output_type": "stream",
     "text": [
      "Fitting 2 folds for each of 486 candidates, totalling 972 fits\n"
     ]
    },
    {
     "name": "stderr",
     "output_type": "stream",
     "text": [
      "[Parallel(n_jobs=-1)]: Using backend LokyBackend with 8 concurrent workers.\n",
      "[Parallel(n_jobs=-1)]: Done   2 tasks      | elapsed:    3.3s\n",
      "[Parallel(n_jobs=-1)]: Done  25 tasks      | elapsed:   31.1s\n",
      "[Parallel(n_jobs=-1)]: Done  56 tasks      | elapsed:  1.0min\n",
      "[Parallel(n_jobs=-1)]: Done  97 tasks      | elapsed:  1.9min\n",
      "[Parallel(n_jobs=-1)]: Done 146 tasks      | elapsed:  2.7min\n",
      "[Parallel(n_jobs=-1)]: Done 205 tasks      | elapsed:  4.0min\n",
      "[Parallel(n_jobs=-1)]: Done 272 tasks      | elapsed:  5.4min\n",
      "[Parallel(n_jobs=-1)]: Done 349 tasks      | elapsed:  7.2min\n",
      "[Parallel(n_jobs=-1)]: Done 434 tasks      | elapsed:  9.2min\n",
      "[Parallel(n_jobs=-1)]: Done 529 tasks      | elapsed: 11.7min\n",
      "[Parallel(n_jobs=-1)]: Done 632 tasks      | elapsed: 14.4min\n",
      "[Parallel(n_jobs=-1)]: Done 745 tasks      | elapsed: 17.7min\n",
      "[Parallel(n_jobs=-1)]: Done 866 tasks      | elapsed: 21.3min\n",
      "[Parallel(n_jobs=-1)]: Done 972 out of 972 | elapsed: 24.5min finished\n"
     ]
    },
    {
     "name": "stdout",
     "output_type": "stream",
     "text": [
      "Total time: 1498.542587518692\n",
      "Best Cross-Validation Score: 0.860\n",
      "Test Score: 0.881\n",
      "Best Parameters: {'max_depth': 10, 'min_samples_leaf': 7, 'min_samples_split': 4, 'n_estimators': 100}\n",
      "Training Score: 0.991\n",
      "Test Score: 0.881\n"
     ]
    }
   ],
   "source": [
    "parameters = {'n_estimators':[100],'max_depth': [5,6,7,8,9,10], 'min_samples_split': range(1,10), 'min_samples_leaf': range(1,10)}\n",
    "rf_2 =  RandomForestClassifier()\n",
    "gs_rf_2 = GridSearchCV(rf_2, parameters, n_jobs=-1,cv=2, verbose = 8)\n",
    "start = time.time()\n",
    "gs_rf_2.fit(x_train_transform,y_train)\n",
    "print(\"Total time:\",time.time()-start)\n",
    "print(\"Best Cross-Validation Score: {:.3f}\\nTest Score: {:.3f}\\nBest Parameters: {}\".format(gs_rf_2.best_score_,gs_rf_2.score(x_test_transform, y_test) ,gs_rf_2.best_params_))\n",
    "print(\"Training Score: {:.3f}\\nTest Score: {:.3f}\".format(gs_rf_2.score(x_train_transform, y_train),gs_rf_2.score(x_test_transform, y_test)))"
   ]
  },
  {
   "cell_type": "markdown",
   "metadata": {},
   "source": [
    "The gap between training and test score were reduced. Whereas, the performance is still low compared to earlier implementation without pca. So let's tune for number of estimators and number of features to be used."
   ]
  },
  {
   "cell_type": "code",
   "execution_count": 27,
   "metadata": {},
   "outputs": [
    {
     "name": "stdout",
     "output_type": "stream",
     "text": [
      "Fitting 2 folds for each of 48 candidates, totalling 96 fits\n"
     ]
    },
    {
     "name": "stderr",
     "output_type": "stream",
     "text": [
      "[Parallel(n_jobs=-1)]: Using backend LokyBackend with 8 concurrent workers.\n",
      "[Parallel(n_jobs=-1)]: Done   2 tasks      | elapsed:   17.1s\n",
      "[Parallel(n_jobs=-1)]: Done  25 tasks      | elapsed: 11.8min\n",
      "[Parallel(n_jobs=-1)]: Done  56 tasks      | elapsed: 27.9min\n",
      "[Parallel(n_jobs=-1)]: Done  94 out of  96 | elapsed: 53.3min remaining:  1.1min\n",
      "[Parallel(n_jobs=-1)]: Done  96 out of  96 | elapsed: 58.9min finished\n"
     ]
    },
    {
     "name": "stdout",
     "output_type": "stream",
     "text": [
      "Total time: 3661.9027676582336\n",
      "Best Cross-Validation Score: 0.894\n",
      "Test Score: 0.917\n",
      "Best Parameters: {'max_depth': None, 'max_features': 'auto', 'min_samples_leaf': 7, 'min_samples_split': 4, 'n_estimators': 400}\n",
      "Training Score: 1.000\n",
      "Test Score: 0.917\n"
     ]
    }
   ],
   "source": [
    "parameters = {'n_estimators':[100,200,300,400],'max_depth': [10,15,None], 'min_samples_split': [4], 'min_samples_leaf': [7], 'max_features':['auto',None,'sqrt',50]}\n",
    "rf_2 =  RandomForestClassifier()\n",
    "gs_rf_2 = GridSearchCV(rf_2, parameters, n_jobs=-1,cv=2, verbose = 8)\n",
    "start = time.time()\n",
    "gs_rf_2.fit(x_train_transform,y_train)\n",
    "print(\"Total time:\",time.time()-start)\n",
    "print(\"Best Cross-Validation Score: {:.3f}\\nTest Score: {:.3f}\\nBest Parameters: {}\".format(gs_rf_2.best_score_,gs_rf_2.score(x_test_transform, y_test) ,gs_rf_2.best_params_))\n",
    "print(\"Training Score: {:.3f}\\nTest Score: {:.3f}\".format(gs_rf_2.score(x_train_transform, y_train),gs_rf_2.score(x_test_transform, y_test)))"
   ]
  },
  {
   "cell_type": "markdown",
   "metadata": {},
   "source": [
    "With 400 trees, we were able to produce 91.7% accuracy on the test data. There is some overfitting here. Let's tune for early pruning here."
   ]
  },
  {
   "cell_type": "code",
   "execution_count": 33,
   "metadata": {},
   "outputs": [
    {
     "name": "stdout",
     "output_type": "stream",
     "text": [
      "Fitting 2 folds for each of 8 candidates, totalling 16 fits\n"
     ]
    },
    {
     "name": "stderr",
     "output_type": "stream",
     "text": [
      "[Parallel(n_jobs=-1)]: Using backend LokyBackend with 8 concurrent workers.\n",
      "[Parallel(n_jobs=-1)]: Done   4 out of  16 | elapsed:   38.6s remaining:  1.9min\n",
      "[Parallel(n_jobs=-1)]: Done   7 out of  16 | elapsed:   39.0s remaining:   50.2s\n",
      "[Parallel(n_jobs=-1)]: Done  10 out of  16 | elapsed:  1.6min remaining:   56.5s\n",
      "[Parallel(n_jobs=-1)]: Done  13 out of  16 | elapsed:  1.6min remaining:   22.2s\n",
      "[Parallel(n_jobs=-1)]: Done  16 out of  16 | elapsed:  1.6min remaining:    0.0s\n",
      "[Parallel(n_jobs=-1)]: Done  16 out of  16 | elapsed:  1.6min finished\n"
     ]
    },
    {
     "name": "stdout",
     "output_type": "stream",
     "text": [
      "Total time: 202.0773777961731\n",
      "Best Cross-Validation Score: 0.884\n",
      "Test Score: 0.896\n",
      "Best Parameters: {'max_depth': 10, 'max_features': 'auto', 'min_samples_leaf': 15, 'min_samples_split': 20, 'n_estimators': 400}\n",
      "Training Score: 0.986\n",
      "Test Score: 0.896\n"
     ]
    }
   ],
   "source": [
    "parameters = {'n_estimators':[400],'max_depth': [5,10], 'min_samples_split': [15,20], 'min_samples_leaf': [20,15], 'max_features':['auto']}\n",
    "rf_2 =  RandomForestClassifier()\n",
    "gs_rf_2 = GridSearchCV(rf_2, parameters, n_jobs=-1,cv=2, verbose = 8)\n",
    "start = time.time()\n",
    "gs_rf_2.fit(x_train_transform,y_train)\n",
    "print(\"Total time:\",time.time()-start)\n",
    "print(\"Best Cross-Validation Score: {:.3f}\\nTest Score: {:.3f}\\nBest Parameters: {}\".format(gs_rf_2.best_score_,gs_rf_2.score(x_test_transform, y_test) ,gs_rf_2.best_params_))\n",
    "print(\"Training Score: {:.3f}\\nTest Score: {:.3f}\".format(gs_rf_2.score(x_train_transform, y_train),gs_rf_2.score(x_test_transform, y_test)))"
   ]
  },
  {
   "cell_type": "markdown",
   "metadata": {},
   "source": [
    "Even after extensive search for hyper-parameters, our model was not able to produce better results than the random forest classifier trained on original untransformed data.\n",
    "And hence, we will be using only the original dataset from here on."
   ]
  },
  {
   "cell_type": "markdown",
   "metadata": {},
   "source": [
    "### KDD - Predictive modelling step"
   ]
  },
  {
   "cell_type": "markdown",
   "metadata": {},
   "source": [
    "**Random Forest Classifier with original features**"
   ]
  },
  {
   "cell_type": "code",
   "execution_count": 57,
   "metadata": {},
   "outputs": [
    {
     "name": "stdout",
     "output_type": "stream",
     "text": [
      "Total time: 22.294711351394653\n",
      "Training Score: 0.980\n",
      "Test Score: 0.938\n"
     ]
    }
   ],
   "source": [
    "rf_clf =  RandomForestClassifier(n_estimators = 100, max_depth=10, min_samples_split=6, min_samples_leaf=1)\n",
    "start = time.time()\n",
    "rf_clf.fit(x_train,y_train)\n",
    "print(\"Total time:\",time.time()-start)\n",
    "print(\"Training Score: {:.3f}\\nTest Score: {:.3f}\".format(rf_clf.score(x_train, y_train),rf_clf.score(x_test, y_test)))"
   ]
  },
  {
   "cell_type": "markdown",
   "metadata": {},
   "source": [
    "The highest performance on test data wsa 93.8% using the random forest classifier and original data without any transformation."
   ]
  },
  {
   "cell_type": "markdown",
   "metadata": {},
   "source": [
    "### KDD - Knowledge Discovery Step "
   ]
  },
  {
   "cell_type": "code",
   "execution_count": 52,
   "metadata": {},
   "outputs": [
    {
     "data": {
      "text/plain": [
       "array([5.59427000e-05, 1.62637587e-04, 5.66410839e-04, 2.82688204e-03,\n",
       "       4.73613660e-04, 5.58388080e-04, 1.98271634e-04, 3.20789251e-04,\n",
       "       5.91325996e-03, 4.15720387e-03, 2.04623235e-03, 7.39718752e-04,\n",
       "       7.49848101e-04, 2.84992402e-03, 4.35092023e-03, 5.02085671e-03,\n",
       "       6.58199675e-04, 2.56878351e-04, 2.62720057e-04, 1.58419386e-04,\n",
       "       2.94693022e-04, 2.08534451e-04, 4.25393582e-05, 8.99330507e-05,\n",
       "       2.68250251e-05, 1.73344438e-04, 7.85589937e-05, 1.15261871e-04,\n",
       "       2.74612274e-04, 1.53949504e-04, 8.22463602e-05, 4.83832993e-05,\n",
       "       4.76945437e-05, 1.61712333e-04, 1.45459869e-04, 4.00355420e-04,\n",
       "       1.99676384e-04, 2.18344765e-04, 7.00787417e-05, 1.92195695e-04,\n",
       "       1.79842439e-04, 1.35353120e-04, 5.75693614e-05, 1.06712539e-04,\n",
       "       3.72652315e-04, 2.79849551e-03, 1.22767450e-03, 3.56686728e-04,\n",
       "       2.74179849e-04, 2.48201778e-04, 2.45374758e-04, 7.70557327e-05,\n",
       "       1.74980897e-04, 1.00802964e-04, 8.20911961e-05, 4.93186349e-05,\n",
       "       5.47770170e-05, 8.86027172e-05, 3.59995298e-05, 7.18073877e-05,\n",
       "       8.46496575e-05, 5.40334520e-05, 4.61831171e-05, 5.73506866e-05,\n",
       "       5.34440908e-05, 2.24521629e-04, 2.78264608e-04, 2.15998505e-03,\n",
       "       4.48201476e-04, 3.89454521e-04, 1.20029122e-04, 2.08068006e-04,\n",
       "       1.14297385e-04, 1.69623357e-04, 2.12204731e-04, 2.43024645e-04,\n",
       "       5.52461204e-04, 8.22531398e-04, 1.27515856e-03, 2.35666207e-04,\n",
       "       1.14452420e-04, 1.55118277e-04, 6.35205358e-05, 1.77262922e-04,\n",
       "       1.90640421e-04, 7.76604962e-05, 6.92177432e-05, 9.49901035e-05,\n",
       "       3.48890607e-05, 2.58541436e-05, 2.71666612e-05, 2.62021108e-05,\n",
       "       5.89312228e-05, 4.68462792e-05, 3.10498879e-05, 2.48505838e-05,\n",
       "       6.77373951e-05, 2.23653395e-04, 5.89857380e-04, 1.30158032e-02,\n",
       "       1.02941244e-03, 3.07437332e-04, 1.52978319e-04, 7.41820021e-04,\n",
       "       5.31136978e-04, 1.72186463e-03, 6.89143606e-04, 3.06003640e-04,\n",
       "       9.13608439e-04, 4.96857516e-04, 2.38351860e-04, 1.02741205e-04,\n",
       "       8.80493221e-05, 9.30002323e-05, 1.26680483e-04, 3.63743281e-04,\n",
       "       2.49516854e-04, 2.63721079e-04, 1.15100344e-04, 1.25600135e-04,\n",
       "       5.59704892e-05, 2.70282785e-05, 8.93770120e-05, 5.70716448e-05,\n",
       "       2.55921239e-05, 8.86747326e-05, 1.01275419e-04, 1.19206919e-04,\n",
       "       3.39064371e-04, 1.57495501e-03, 6.12238126e-04, 4.80407886e-04,\n",
       "       5.81698863e-04, 3.50238278e-03, 7.19436776e-04, 4.57719435e-04,\n",
       "       8.83582137e-04, 1.69901686e-02, 1.77622225e-02, 7.24054538e-04,\n",
       "       2.48442067e-04, 7.62443230e-03, 2.42990223e-03, 8.77257570e-05,\n",
       "       1.64995156e-04, 1.99836790e-04, 7.79155356e-04, 2.37689769e-04,\n",
       "       2.01946918e-04, 1.56097626e-04, 4.30359932e-04, 2.67200985e-04,\n",
       "       1.92996640e-04, 1.01294402e-04, 3.48053630e-04, 3.93377461e-04,\n",
       "       1.24901304e-03, 1.33065550e-04, 2.92958692e-05, 7.88020070e-05,\n",
       "       8.72346590e-04, 2.02059102e-03, 2.14217695e-04, 3.71619675e-04,\n",
       "       5.07395857e-04, 8.96385421e-03, 5.04247344e-03, 5.02197263e-04,\n",
       "       6.60340323e-03, 9.63105275e-04, 1.90637569e-03, 1.99693171e-02,\n",
       "       3.29202728e-03, 4.07848229e-03, 5.82244706e-03, 1.18901117e-03,\n",
       "       1.35869953e-03, 9.76886464e-04, 3.08109854e-03, 9.50879850e-03,\n",
       "       1.44710640e-03, 1.29338024e-03, 6.71944262e-04, 4.57416510e-04,\n",
       "       1.40636454e-04, 1.61387925e-04, 4.85855009e-04, 2.42220403e-03,\n",
       "       2.51403608e-03, 1.14954655e-04, 7.76312903e-05, 6.96974347e-05,\n",
       "       1.82864313e-04, 1.84480078e-04, 1.21271810e-04, 8.95286873e-05,\n",
       "       1.83503343e-04, 1.60565284e-04, 9.49593809e-04, 1.67850370e-03,\n",
       "       2.50893664e-03, 1.28424441e-03, 1.14436188e-03, 1.58398083e-02,\n",
       "       5.61989802e-03, 3.83320846e-04, 2.18959106e-04, 2.87710223e-04,\n",
       "       2.94879825e-04, 1.16953676e-04, 2.79227721e-04, 1.05846275e-03,\n",
       "       1.05476566e-02, 1.40420388e-03, 1.71271434e-03, 6.61079750e-04,\n",
       "       2.24142271e-04, 2.15641058e-04, 4.74106518e-04, 3.23128123e-04,\n",
       "       3.43041340e-04, 1.51575695e-04, 7.24770738e-05, 5.72073216e-05,\n",
       "       1.74696286e-04, 7.35007554e-05, 2.66417832e-03, 3.67272118e-04,\n",
       "       1.28441241e-04, 3.26994040e-04, 2.79894238e-04, 2.67076596e-04,\n",
       "       1.83468664e-03, 1.87633286e-03, 3.85069535e-04, 3.63399042e-04,\n",
       "       2.57448848e-04, 3.34661398e-04, 3.24293785e-04, 5.36926851e-04,\n",
       "       5.29645016e-04, 3.49920490e-04, 2.61261619e-04, 2.99264513e-04,\n",
       "       6.08325875e-05, 5.34283645e-05, 5.60449348e-05, 4.48538223e-05,\n",
       "       6.24967461e-05, 2.47377751e-05, 8.33509899e-05, 8.48794306e-05,\n",
       "       2.07524305e-04, 5.25406735e-05, 7.17668688e-05, 8.49131462e-05,\n",
       "       6.62654795e-05, 9.87190421e-05, 5.41912467e-03, 1.31512284e-03,\n",
       "       1.42541581e-04, 1.18000895e-04, 2.22064843e-04, 2.72732545e-04,\n",
       "       1.77053339e-02, 3.12925778e-03, 9.31344843e-04, 3.53422222e-04,\n",
       "       1.31301083e-04, 2.00365665e-04, 4.07714345e-04, 3.56015390e-04,\n",
       "       6.60810941e-05, 5.50268595e-05, 5.54135641e-05, 1.02673729e-04,\n",
       "       1.41279886e-04, 8.19634996e-05, 3.83062083e-05, 3.07984935e-05,\n",
       "       1.16993874e-04, 1.03456419e-04, 4.16543728e-05, 6.67742505e-05,\n",
       "       3.73442872e-05, 9.78691509e-05, 1.46197650e-04, 3.63191748e-05,\n",
       "       7.55684585e-05, 1.23039935e-04, 2.69870904e-04, 3.19587429e-04,\n",
       "       1.25720238e-04, 2.67733769e-04, 4.22346277e-04, 1.94204005e-04,\n",
       "       3.42024872e-03, 2.15308687e-02, 3.54844247e-04, 1.23790210e-03,\n",
       "       2.52776893e-03, 3.10983421e-04, 2.14549343e-04, 1.50352559e-04,\n",
       "       7.83634003e-05, 4.37744671e-05, 5.86023389e-05, 3.35019699e-04,\n",
       "       2.88511425e-04, 1.40426022e-04, 7.87483328e-05, 1.69223567e-04,\n",
       "       6.08908208e-05, 5.59109154e-05, 4.40281567e-05, 3.21322363e-05,\n",
       "       4.38541905e-05, 1.19705009e-04, 8.63464419e-05, 1.36105127e-05,\n",
       "       1.12127997e-04, 9.36912916e-05, 1.14703347e-04, 2.54219983e-04,\n",
       "       3.75780902e-04, 2.26820395e-03, 2.45426982e-03, 1.96494618e-03,\n",
       "       3.30062369e-03, 5.89834542e-04, 3.03598273e-03, 1.41745946e-02,\n",
       "       9.19053855e-05, 5.69004801e-04, 5.62993767e-04, 2.57868061e-04,\n",
       "       1.03811069e-04, 2.12672144e-04, 1.97725128e-04, 9.71593360e-05,\n",
       "       7.07412718e-05, 9.54437993e-05, 1.54579410e-04, 4.25136400e-04,\n",
       "       1.03201919e-03, 3.15894166e-04, 4.95010428e-05, 1.41770635e-04,\n",
       "       1.32130672e-04, 1.11662285e-04, 4.79732860e-05, 8.42284909e-05,\n",
       "       7.61241034e-04, 8.10581109e-05, 3.53147729e-04, 2.23878584e-04,\n",
       "       6.89673409e-04, 5.87068489e-04, 7.73168947e-04, 4.13156067e-03,\n",
       "       1.02861488e-03, 1.01872549e-03, 2.00776834e-03, 4.70886714e-03,\n",
       "       1.43625397e-04, 9.38474945e-05, 1.76172346e-04, 7.31809272e-05,\n",
       "       4.16329783e-05, 1.19201938e-04, 1.50466259e-04, 8.77584905e-04,\n",
       "       2.29163836e-04, 5.98856589e-05, 5.28732692e-05, 7.96906611e-05,\n",
       "       4.71048885e-04, 4.99191379e-04, 8.28563268e-05, 2.13784396e-04,\n",
       "       3.71379071e-04, 1.75508130e-04, 7.35438305e-04, 6.28080913e-04,\n",
       "       7.71594428e-05, 3.46512150e-04, 7.39644087e-04, 7.52973810e-04,\n",
       "       4.36712866e-03, 1.49964196e-02, 5.15797322e-04, 3.54707543e-04,\n",
       "       3.40216791e-04, 3.41225679e-03, 5.76428994e-02, 3.62037237e-03,\n",
       "       2.56430180e-02, 1.84343703e-02, 8.00265039e-04, 4.51838096e-04,\n",
       "       2.43386146e-04, 1.50262892e-04, 1.75303115e-04, 1.58554682e-04,\n",
       "       1.28434618e-04, 2.29421103e-04, 3.89755687e-04, 2.70080130e-04,\n",
       "       1.78588158e-04, 1.78863314e-04, 1.09141455e-02, 3.74563298e-02,\n",
       "       6.03219039e-03, 5.27797553e-03, 3.68687222e-04, 1.05472522e-02,\n",
       "       1.97142348e-03, 3.76730066e-02, 1.10702916e-02, 1.43888713e-04,\n",
       "       2.15881717e-04, 1.08713059e-03, 7.60225171e-05, 2.26701916e-05,\n",
       "       5.13966832e-04, 5.92120864e-04, 2.12968964e-03, 1.04703985e-03,\n",
       "       1.81432783e-04, 1.68785150e-04, 1.77082433e-04, 2.07035742e-04,\n",
       "       1.97543650e-02, 6.00629228e-04, 1.53311094e-04, 4.69934909e-03,\n",
       "       4.06967358e-04, 6.21211211e-04, 3.33726400e-04, 1.00984615e-04,\n",
       "       1.16174130e-04, 1.06047262e-04, 8.72493432e-05, 8.29268795e-05,\n",
       "       3.88861915e-05, 4.62583809e-05, 9.50708752e-05, 4.11303527e-05,\n",
       "       1.96383499e-05, 2.29512355e-04, 6.17787496e-05, 7.40328690e-05,\n",
       "       7.80987772e-04, 5.79769378e-04, 9.46137910e-04, 4.17264681e-04,\n",
       "       6.30509554e-04, 4.51197299e-03, 5.19882712e-03, 7.46022777e-04,\n",
       "       3.77561882e-02, 3.39125625e-02, 1.17782202e-03, 4.48691309e-04,\n",
       "       1.92568591e-04, 1.47223804e-04, 1.23578888e-04, 7.86853226e-05,\n",
       "       3.28093595e-04, 3.07477441e-04, 4.02080817e-04, 1.48034752e-03,\n",
       "       5.80995347e-04, 1.96415413e-03, 6.35576625e-03, 7.73257496e-04,\n",
       "       3.80045831e-04, 2.67963763e-04, 1.56826488e-04, 8.90889174e-03,\n",
       "       9.32448535e-03, 2.11136500e-04, 1.85710958e-04, 1.14618082e-04,\n",
       "       2.35235411e-04, 1.28134271e-03, 1.22486212e-03, 7.28675771e-04,\n",
       "       7.52396466e-03, 1.74635373e-03, 3.90861321e-04, 6.16645587e-04,\n",
       "       3.69279300e-03, 8.84713190e-03, 3.34944792e-04, 1.73906741e-04,\n",
       "       8.93589162e-05, 1.38977531e-04, 1.29132178e-04, 1.37016083e-04,\n",
       "       5.77993460e-05, 1.67383260e-04, 3.01133541e-04, 1.59252213e-04,\n",
       "       2.39289543e-04, 1.41629844e-04, 1.38327264e-04, 2.17443305e-04,\n",
       "       4.66720274e-04, 3.47954125e-04, 5.54871797e-04, 6.67421334e-04,\n",
       "       8.12518412e-04, 4.68668087e-04, 2.40046902e-02, 1.01761787e-03,\n",
       "       3.59121249e-04, 6.34181687e-04, 7.85403613e-04, 8.17517753e-03,\n",
       "       2.30220034e-04, 2.77966453e-04, 2.10258427e-04, 1.76778033e-03,\n",
       "       2.90403894e-03, 3.56969181e-04, 1.24915776e-03, 2.98576168e-04,\n",
       "       5.59151939e-04, 9.89938678e-05, 1.91192676e-04, 1.12089060e-04,\n",
       "       1.11349354e-04, 2.79581380e-04, 1.63562440e-04, 4.37483748e-04,\n",
       "       7.67042626e-04, 3.44347694e-04, 2.34253697e-03, 3.62438429e-03,\n",
       "       9.73224599e-04, 1.05809460e-03, 2.97520688e-04, 1.66703077e-04,\n",
       "       6.58866877e-04, 4.84715503e-04, 1.62246732e-04, 2.08342365e-03,\n",
       "       1.00645663e-03, 4.17641827e-04, 4.24885381e-04, 1.98985670e-03,\n",
       "       4.24124607e-04, 1.02494803e-03, 2.75524452e-04, 1.52286342e-03,\n",
       "       2.47100982e-02, 3.78300600e-04, 2.18445988e-04, 1.29896446e-04,\n",
       "       8.81496828e-05, 5.49482129e-05, 4.53817993e-05, 3.53140668e-05,\n",
       "       1.29361358e-04, 2.59630684e-04, 9.25618195e-05, 2.40337083e-04,\n",
       "       2.37443397e-04, 1.06002870e-04, 2.14944534e-04, 2.57086346e-04,\n",
       "       9.05530846e-05, 3.75472683e-04, 2.76924038e-04, 1.50883912e-04,\n",
       "       1.14320486e-02, 1.86325114e-05, 8.18391682e-05, 5.74786938e-05,\n",
       "       2.44214678e-02, 3.15932592e-03, 1.09063421e-04, 1.82055457e-02,\n",
       "       0.00000000e+00, 1.36606117e-04, 1.45344723e-04, 4.24656729e-05,\n",
       "       1.86573459e-04, 1.06922825e-04, 3.91976743e-04, 3.21201729e-04,\n",
       "       2.91818601e-04, 4.73913420e-04, 1.68921530e-04, 1.52833137e-04,\n",
       "       4.06463185e-04, 3.38143366e-04, 6.68492813e-05, 6.79779254e-05,\n",
       "       9.49123266e-05, 7.83713573e-05, 2.30782857e-04, 9.24075955e-05,\n",
       "       2.26642957e-04, 1.07972394e-04, 9.33646492e-05, 8.76191189e-05,\n",
       "       2.07257399e-04, 2.48913052e-04, 1.07176652e-04, 5.87265440e-05,\n",
       "       2.63415580e-04, 2.36461905e-04, 6.30115742e-05, 7.83952962e-05,\n",
       "       4.27252428e-05])"
      ]
     },
     "execution_count": 52,
     "metadata": {},
     "output_type": "execute_result"
    }
   ],
   "source": [
    "rf_clf.feature_importances_"
   ]
  },
  {
   "cell_type": "code",
   "execution_count": 53,
   "metadata": {},
   "outputs": [
    {
     "data": {
      "image/png": "[encoded data removed]",
      "text/plain": [
       "<Figure size 720x10800 with 1 Axes>"
      ]
     },
     "metadata": {
      "needs_background": "light"
     },
     "output_type": "display_data"
    }
   ],
   "source": [
    "def plot_feature_importances(model, n_features, feature_names):\n",
    "    plt.figure(figsize = (10,150))\n",
    "    plt.barh(range(n_features), model.feature_importances_, align='center')\n",
    "    plt.yticks(np.arange(n_features), feature_names)\n",
    "    plt.xlabel(\"Feature importance\")\n",
    "    plt.ylabel(\"Feature\")\n",
    "    plt.ylim(-1, n_features)\n",
    "\n",
    "features = x_train.columns\n",
    "plot_feature_importances(rf_clf, len(features), features)"
   ]
  },
  {
   "cell_type": "markdown",
   "metadata": {},
   "source": [
    "We see from the bar graph that most of the features contribute to the model. "
   ]
  },
  {
   "cell_type": "markdown",
   "metadata": {},
   "source": [
    "The features used to classify human spoken letters were spectral coefficients; contour features, sonorant features, pre-sonorant features, and post-sonorant features. However the exact order of these features are unknown and not enclosed anywhere on the web."
   ]
  },
  {
   "cell_type": "code",
   "execution_count": null,
   "metadata": {},
   "outputs": [],
   "source": []
  }
 ],
 "metadata": {
  "accelerator": "GPU",
  "colab": {
   "collapsed_sections": [],
   "name": "project.ipynb",
   "provenance": []
  },
  "kernelspec": {
   "display_name": "Python 3",
   "language": "python",
   "name": "python3"
  },
  "language_info": {
   "codemirror_mode": {
    "name": "ipython",
    "version": 3
   },
   "file_extension": ".py",
   "mimetype": "text/x-python",
   "name": "python",
   "nbconvert_exporter": "python",
   "pygments_lexer": "ipython3",
   "version": "3.7.6"
  }
 },
 "nbformat": 4,
 "nbformat_minor": 1
}
